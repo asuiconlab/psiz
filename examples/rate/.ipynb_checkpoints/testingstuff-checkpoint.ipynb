{
 "cells": [
  {
   "cell_type": "code",
   "execution_count": 17,
   "metadata": {},
   "outputs": [],
   "source": [
    "some = {'rho_trainable': False, 'beta_trainable': False, 'gamma_trainable': False, 'tau_trainable': False}"
   ]
  },
  {
   "cell_type": "code",
   "execution_count": 18,
   "metadata": {},
   "outputs": [
    {
     "name": "stdout",
     "output_type": "stream",
     "text": [
      "Inferred parameters\n",
      "    sigmoid lower bound: 0.01    sigmoid upper bound: 0.73    sigmoid midpoint: 0.16    sigmoid rate: 5.22\n",
      "<psiz.models.rate.Rate object at 0x7f0f88661ac0>\n",
      "CPU times: user 5h 45min 3s, sys: 42min 33s, total: 6h 27min 36s\n",
      "Wall time: 3h 37min 23s\n"
     ]
    }
   ],
   "source": [
    "%time rho_is_onetenth = mle_1g_test.main(**some)"
   ]
  },
  {
   "cell_type": "code",
   "execution_count": 19,
   "metadata": {},
   "outputs": [],
   "source": [
    "rho_is_ten.save_weights(\"weights_rho_is_onetenth\", save_format=\"tf\")"
   ]
  },
  {
   "cell_type": "code",
   "execution_count": 14,
   "metadata": {},
   "outputs": [],
   "source": [
    "import mle_1g_test"
   ]
  },
  {
   "cell_type": "code",
   "execution_count": 5,
   "metadata": {},
   "outputs": [],
   "source": [
    "some = {'rho_trainable': True, 'beta_trainable': True, 'gamma_trainable': False, 'tau_trainable': False}"
   ]
  },
  {
   "cell_type": "code",
   "execution_count": 6,
   "metadata": {},
   "outputs": [
    {
     "name": "stdout",
     "output_type": "stream",
     "text": [
      "Inferred parameters\n",
      "    sigmoid lower bound: 0.11    sigmoid upper bound: 0.72    sigmoid midpoint: 0.19    sigmoid rate: 5.76\n",
      "<psiz.models.rate.Rate object at 0x7fb2a44d6eb0>\n",
      "CPU times: user 5h 37min 23s, sys: 33min 39s, total: 6h 11min 2s\n",
      "Wall time: 3h 17min 17s\n"
     ]
    }
   ],
   "source": [
    "%time testing_save_model = mle_1g_test.main(**some)"
   ]
  },
  {
   "cell_type": "code",
   "execution_count": 7,
   "metadata": {},
   "outputs": [],
   "source": [
    "import tensorflow as tf\n",
    "import psiz"
   ]
  },
  {
   "cell_type": "code",
   "execution_count": 29,
   "metadata": {},
   "outputs": [],
   "source": [
    "import tensorflow.keras.models"
   ]
  },
  {
   "cell_type": "code",
   "execution_count": 31,
   "metadata": {},
   "outputs": [],
   "source": [
    "testing_save_model.save(\"testing_save_model\")"
   ]
  },
  {
   "cell_type": "code",
   "execution_count": 6,
   "metadata": {},
   "outputs": [],
   "source": [
    "testing_save_model.save(\"saving_whole_model\")"
   ]
  },
  {
   "cell_type": "code",
   "execution_count": 2,
   "metadata": {},
   "outputs": [],
   "source": [
    "models = {}"
   ]
  },
  {
   "cell_type": "code",
   "execution_count": 3,
   "metadata": {},
   "outputs": [],
   "source": [
    "kinds_of_models = {'rho__beta_trainable': {'rho_trainable': True, 'beta_trainable': True, 'gamma_trainable': False, 'tau_trainable': False},\n",
    "                   'beta_trainable': {'rho_trainable': False, 'beta_trainable': True, 'gamma_trainable': False, 'tau_trainable': False},\n",
    "                   'all_trainable': {'rho_trainable': True, 'beta_trainable': True, 'gamma_trainable': True, 'tau_trainable': True},}"
   ]
  },
  {
   "cell_type": "code",
   "execution_count": 7,
   "metadata": {},
   "outputs": [],
   "source": [
    "import pickle\n",
    "pickle.dump(kinds_of_models, open(\"kinds_of_models.p\", \"wb\"))"
   ]
  },
  {
   "cell_type": "code",
   "execution_count": 4,
   "metadata": {},
   "outputs": [
    {
     "name": "stdout",
     "output_type": "stream",
     "text": [
      "check\n",
      "{'rho_trainable': True, 'beta_trainable': True, 'gamma_trainable': False, 'tau_trainable': False}\n",
      "some\n",
      "Inferred parameters\n",
      "    sigmoid lower bound: 0.17    sigmoid upper bound: 0.73    sigmoid midpoint: 0.27    sigmoid rate: 6.74\n",
      "<psiz.models.rate.Rate object at 0x7f45a4576670>\n",
      "check\n",
      "{'rho_trainable': False, 'beta_trainable': True, 'gamma_trainable': False, 'tau_trainable': False}\n",
      "some\n",
      "Inferred parameters\n",
      "    sigmoid lower bound: 0.15    sigmoid upper bound: 0.73    sigmoid midpoint: 0.27    sigmoid rate: 7.32\n",
      "<psiz.models.rate.Rate object at 0x7f458c3fe4f0>\n",
      "check\n",
      "{'rho_trainable': True, 'beta_trainable': True, 'gamma_trainable': True, 'tau_trainable': True}\n",
      "some\n",
      "Inferred parameters\n",
      "    sigmoid lower bound: 0.01    sigmoid upper bound: 0.75    sigmoid midpoint: 0.50    sigmoid rate: 3.71\n",
      "<psiz.models.rate.Rate object at 0x7f457c5bbd00>\n",
      "CPU times: user 18h 15min 28s, sys: 2h 17min 23s, total: 20h 32min 52s\n",
      "Wall time: 11h 4min 30s\n"
     ]
    }
   ],
   "source": [
    "%%time\n",
    "for kind_of_model, trainable_kwargs in kinds_of_models.items():\n",
    "    if kind_of_model not in models:\n",
    "        models[kind_of_model] = mle_1g_test.main(**trainable_kwargs)\n",
    "        models[kind_of_model].save_weights(\"weights_%s\" % kind_of_model, save_format=\"tf\")"
   ]
  },
  {
   "cell_type": "code",
   "execution_count": null,
   "metadata": {},
   "outputs": [],
   "source": [
    "#believe"
   ]
  },
  {
   "cell_type": "code",
   "execution_count": null,
   "metadata": {},
   "outputs": [],
   "source": [
    "models[0]"
   ]
  },
  {
   "cell_type": "code",
   "execution_count": 5,
   "metadata": {},
   "outputs": [
    {
     "data": {
      "text/plain": [
       "{'rho__beta_trainable': <psiz.models.rate.Rate at 0x7f45a4576670>,\n",
       " 'beta_trainable': <psiz.models.rate.Rate at 0x7f458c3fe4f0>,\n",
       " 'all_trainable': <psiz.models.rate.Rate at 0x7f457c5bbd00>}"
      ]
     },
     "execution_count": 5,
     "metadata": {},
     "output_type": "execute_result"
    }
   ],
   "source": [
    "models"
   ]
  },
  {
   "cell_type": "code",
   "execution_count": 81,
   "metadata": {},
   "outputs": [
    {
     "name": "stdout",
     "output_type": "stream",
     "text": [
      "{'name': 'liyah', 'age': 20}\n"
     ]
    }
   ],
   "source": [
    "temp = {\n",
    "    'name': 'liyah',\n",
    "    'age': 20,\n",
    "}\n",
    "f(**temp)"
   ]
  },
  {
   "cell_type": "code",
   "execution_count": 10,
   "metadata": {},
   "outputs": [
    {
     "name": "stdout",
     "output_type": "stream",
     "text": [
      "{'rho_trainable': True, 'beta_trainable': True, 'gamma_trainable': False, 'tau_trainable': False}\n",
      "{'rho_trainable': True, 'beta_trainable': True, 'gamma_trainable': False, 'tau_trainable': False}\n",
      "{'rho_trainable': False, 'beta_trainable': True, 'gamma_trainable': False, 'tau_trainable': False}\n",
      "{'rho_trainable': False, 'beta_trainable': True, 'gamma_trainable': False, 'tau_trainable': False}\n",
      "{'rho_trainable': True, 'beta_trainable': True, 'gamma_trainable': True, 'tau_trainable': True}\n",
      "{'rho_trainable': True, 'beta_trainable': True, 'gamma_trainable': True, 'tau_trainable': True}\n"
     ]
    }
   ],
   "source": [
    "def f(**kwargs):\n",
    "    print(kwargs)\n",
    "    #x = kwargs['rho_trainable']\n",
    "    #print(x)\n",
    "for kind, temp in kinds_of_models.items():\n",
    "    print(temp)\n",
    "    f(**temp)"
   ]
  },
  {
   "cell_type": "code",
   "execution_count": 73,
   "metadata": {},
   "outputs": [
    {
     "name": "stdout",
     "output_type": "stream",
     "text": [
      "(1, 2, 3)\n",
      "{'d': 4, 'e': 5}\n",
      "\n",
      "\n",
      "1 2 3\n",
      "4 5\n",
      "\n",
      "\n"
     ]
    }
   ],
   "source": [
    "a = [1, 2, 3]\n",
    "b = {'d': 4, 'e': 5}\n",
    "\n",
    "def f(*args, **kwargs):\n",
    "    print(args)\n",
    "    print(kwargs)\n",
    "    \n",
    "f(*a, **b)\n",
    "print(\"\\n\")\n",
    "\n",
    "def f(x, y, z, d=9, e=12):\n",
    "    print(x, y, z)\n",
    "    print(d, e)\n",
    "    \n",
    "f(*a, **b)\n",
    "print(\"\\n\")"
   ]
  },
  {
   "cell_type": "code",
   "execution_count": 43,
   "metadata": {},
   "outputs": [],
   "source": [
    "# from pathlib import Path\n",
    "# if not Path(\"weights_%s\" % kind).exists():\n",
    "#     pass"
   ]
  },
  {
   "cell_type": "code",
   "execution_count": null,
   "metadata": {},
   "outputs": [],
   "source": []
  },
  {
   "cell_type": "code",
   "execution_count": null,
   "metadata": {},
   "outputs": [],
   "source": [
    "model.save_weights(\"weights_all_trainable\", save_format=\"tf\")"
   ]
  },
  {
   "cell_type": "code",
   "execution_count": null,
   "metadata": {},
   "outputs": [],
   "source": [
    "%time models['beta_trainable'] = mle_1g_test.main(rho_trainable=False, beta_trainable=True)"
   ]
  },
  {
   "cell_type": "code",
   "execution_count": 20,
   "metadata": {},
   "outputs": [],
   "source": []
  },
  {
   "cell_type": "code",
   "execution_count": 31,
   "metadata": {},
   "outputs": [
    {
     "data": {
      "text/plain": [
       "[<tf.Variable 'rate_1/stimuli_1/embeddings:0' shape=(25, 2) dtype=float32, numpy=\n",
       " array([[-3.3883676e-03,  1.0626771e-02],\n",
       "        [ 2.9613322e-01,  8.9638844e-02],\n",
       "        [ 4.4432039e+00, -2.1028849e-01],\n",
       "        [-1.8982842e+00, -1.3518299e+00],\n",
       "        [-1.5471303e+00,  1.1815207e-01],\n",
       "        [-6.8743855e-01, -7.7857548e-01],\n",
       "        [ 2.6074831e+00, -4.0728876e-01],\n",
       "        [-2.8688109e+00, -5.2440751e-01],\n",
       "        [-7.7342927e-01,  1.5208764e+00],\n",
       "        [-2.9825071e-01, -1.5273470e-01],\n",
       "        [ 2.1259356e+00, -2.1872059e-01],\n",
       "        [ 6.0471267e-01,  2.0362294e-01],\n",
       "        [-2.8474694e-01,  8.8242596e-01],\n",
       "        [ 4.6799664e+00,  1.7415766e-02],\n",
       "        [ 3.7174599e+00, -3.0080205e-01],\n",
       "        [ 4.7393298e+00, -1.8617080e-01],\n",
       "        [ 4.9100995e+00, -2.9474372e-01],\n",
       "        [-1.2481384e+00, -1.1335609e+00],\n",
       "        [ 2.3827784e+00, -7.3949927e-01],\n",
       "        [-2.3954344e+00, -9.4188076e-01],\n",
       "        [-1.2319758e+00,  1.6226258e+00],\n",
       "        [-1.3735065e+00, -1.8783046e-01],\n",
       "        [ 2.6103315e+00, -1.7003687e-02],\n",
       "        [-2.1831539e+00,  2.2792988e-01],\n",
       "        [-1.4857041e+00,  8.6973888e-01]], dtype=float32)>,\n",
       " <tf.Variable 'beta:0' shape=() dtype=float32, numpy=1.0152838>,\n",
       " <tf.Variable 'gamma:0' shape=() dtype=float32, numpy=0.0>,\n",
       " <tf.Variable 'rho:0' shape=() dtype=float32, numpy=2.0>,\n",
       " <tf.Variable 'tau:0' shape=() dtype=float32, numpy=1.0>,\n",
       " <tf.Variable 'lower:0' shape=() dtype=float32, numpy=0.19872275>,\n",
       " <tf.Variable 'upper:0' shape=() dtype=float32, numpy=0.7190458>,\n",
       " <tf.Variable 'midpoint:0' shape=() dtype=float32, numpy=0.3407184>,\n",
       " <tf.Variable 'rate:0' shape=() dtype=float32, numpy=7.321511>]"
      ]
     },
     "execution_count": 31,
     "metadata": {},
     "output_type": "execute_result"
    }
   ],
   "source": [
    "model.weights"
   ]
  },
  {
   "cell_type": "code",
   "execution_count": 28,
   "metadata": {},
   "outputs": [
    {
     "name": "stdout",
     "output_type": "stream",
     "text": [
      "[<tf.Variable 'rate_1/stimuli_1/embeddings:0' shape=(25, 2) dtype=float32, numpy=\n",
      "array([[-3.3883676e-03,  1.0626771e-02],\n",
      "       [ 2.9613322e-01,  8.9638844e-02],\n",
      "       [ 4.4432039e+00, -2.1028849e-01],\n",
      "       [-1.8982842e+00, -1.3518299e+00],\n",
      "       [-1.5471303e+00,  1.1815207e-01],\n",
      "       [-6.8743855e-01, -7.7857548e-01],\n",
      "       [ 2.6074831e+00, -4.0728876e-01],\n",
      "       [-2.8688109e+00, -5.2440751e-01],\n",
      "       [-7.7342927e-01,  1.5208764e+00],\n",
      "       [-2.9825071e-01, -1.5273470e-01],\n",
      "       [ 2.1259356e+00, -2.1872059e-01],\n",
      "       [ 6.0471267e-01,  2.0362294e-01],\n",
      "       [-2.8474694e-01,  8.8242596e-01],\n",
      "       [ 4.6799664e+00,  1.7415766e-02],\n",
      "       [ 3.7174599e+00, -3.0080205e-01],\n",
      "       [ 4.7393298e+00, -1.8617080e-01],\n",
      "       [ 4.9100995e+00, -2.9474372e-01],\n",
      "       [-1.2481384e+00, -1.1335609e+00],\n",
      "       [ 2.3827784e+00, -7.3949927e-01],\n",
      "       [-2.3954344e+00, -9.4188076e-01],\n",
      "       [-1.2319758e+00,  1.6226258e+00],\n",
      "       [-1.3735065e+00, -1.8783046e-01],\n",
      "       [ 2.6103315e+00, -1.7003687e-02],\n",
      "       [-2.1831539e+00,  2.2792988e-01],\n",
      "       [-1.4857041e+00,  8.6973888e-01]], dtype=float32)>]\n"
     ]
    }
   ],
   "source": [
    "print(model.stimuli.embedding.weights)\n",
    "#print(type(model.stimuli.embeddings))"
   ]
  },
  {
   "cell_type": "code",
   "execution_count": null,
   "metadata": {},
   "outputs": [],
   "source": [
    "# def f(*a):\n",
    "#     print(a)\n",
    "# f(coords)"
   ]
  },
  {
   "cell_type": "code",
   "execution_count": 9,
   "metadata": {},
   "outputs": [],
   "source": [
    "import pickle \n",
    "#start of testing:\n",
    "with open('DMTS_8odors_5acids_allMice_raw_PerceptualData_forRick_122319.pkl', 'rb') as f:\n",
    "    data = pickle.load(f)"
   ]
  },
  {
   "cell_type": "code",
   "execution_count": 10,
   "metadata": {},
   "outputs": [
    {
     "data": {
      "text/plain": [
       "0.7192041857761127"
      ]
     },
     "execution_count": 10,
     "metadata": {},
     "output_type": "execute_result"
    }
   ],
   "source": [
    "import pandas as pd\n",
    "data_values = pd.concat(data[\"data\"])\n",
    "z = data_values[\"odor_1st\"] == data_values[\"odor_2nd\"]\n",
    "data_values[z][\"response\"].mean()"
   ]
  },
  {
   "cell_type": "code",
   "execution_count": 35,
   "metadata": {},
   "outputs": [
    {
     "data": {
      "text/plain": [
       "array([[-3.3883676e-03,  1.0626771e-02],\n",
       "       [ 2.9613322e-01,  8.9638844e-02],\n",
       "       [ 4.4432039e+00, -2.1028849e-01],\n",
       "       [-1.8982842e+00, -1.3518299e+00],\n",
       "       [-1.5471303e+00,  1.1815207e-01],\n",
       "       [-6.8743855e-01, -7.7857548e-01],\n",
       "       [ 2.6074831e+00, -4.0728876e-01],\n",
       "       [-2.8688109e+00, -5.2440751e-01],\n",
       "       [-7.7342927e-01,  1.5208764e+00],\n",
       "       [-2.9825071e-01, -1.5273470e-01],\n",
       "       [ 2.1259356e+00, -2.1872059e-01],\n",
       "       [ 6.0471267e-01,  2.0362294e-01],\n",
       "       [-2.8474694e-01,  8.8242596e-01],\n",
       "       [ 4.6799664e+00,  1.7415766e-02],\n",
       "       [ 3.7174599e+00, -3.0080205e-01],\n",
       "       [ 4.7393298e+00, -1.8617080e-01],\n",
       "       [ 4.9100995e+00, -2.9474372e-01],\n",
       "       [-1.2481384e+00, -1.1335609e+00],\n",
       "       [ 2.3827784e+00, -7.3949927e-01],\n",
       "       [-2.3954344e+00, -9.4188076e-01],\n",
       "       [-1.2319758e+00,  1.6226258e+00],\n",
       "       [-1.3735065e+00, -1.8783046e-01],\n",
       "       [ 2.6103315e+00, -1.7003687e-02],\n",
       "       [-2.1831539e+00,  2.2792988e-01],\n",
       "       [-1.4857041e+00,  8.6973888e-01]], dtype=float32)"
      ]
     },
     "execution_count": 35,
     "metadata": {},
     "output_type": "execute_result"
    }
   ],
   "source": [
    "model.stimuli.embeddings.numpy()[0]"
   ]
  },
  {
   "cell_type": "code",
   "execution_count": null,
   "metadata": {},
   "outputs": [],
   "source": [
    "coords = model.stimuli.embeddings.numpy()[0]"
   ]
  },
  {
   "cell_type": "code",
   "execution_count": null,
   "metadata": {},
   "outputs": [],
   "source": [
    "#dir(model.stimuli.embeddings)"
   ]
  },
  {
   "cell_type": "markdown",
   "metadata": {},
   "source": [
    "### Gallery of Plots"
   ]
  },
  {
   "cell_type": "code",
   "execution_count": null,
   "metadata": {},
   "outputs": [],
   "source": [
    "import pickle\n",
    "with open('DMTS_8odors_5acids_allMice_raw_PerceptualData_forRick_122319.pkl', 'rb') as f:\n",
    "        data = pickle.load(f)"
   ]
  },
  {
   "cell_type": "code",
   "execution_count": null,
   "metadata": {},
   "outputs": [],
   "source": [
    "import pandas as pd\n",
    "len(data[\"data\"][0][\"odor_1st\"].unique())\n",
    "data_values = pd.concat(data[\"data\"])\n",
    "len(data_values[\"odor_2nd\"].unique() & data_values[\"odor_1st\"].unique() )"
   ]
  },
  {
   "cell_type": "code",
   "execution_count": null,
   "metadata": {},
   "outputs": [],
   "source": [
    "data[\"odorNames\"]"
   ]
  },
  {
   "cell_type": "code",
   "execution_count": null,
   "metadata": {},
   "outputs": [],
   "source": [
    "import matplotlib.pyplot as plt\n",
    "def color_plots(mix_one, mix_two, mixture):\n",
    "    colors = [\"black\"]*25\n",
    "    c = data[\"odorNames\"].index(mix_one)\n",
    "    h = data[\"odorNames\"].index(mix_two)\n",
    "    ch = data[\"odorNames\"].index(mixture)\n",
    "    colors[c] = \"red\"\n",
    "    colors[h] = \"blue\"\n",
    "    colors[ch] = \"purple\"\n",
    "    plt.scatter(*coords.T, c = colors)"
   ]
  },
  {
   "cell_type": "code",
   "execution_count": null,
   "metadata": {},
   "outputs": [],
   "source": [
    "color_plots(\"CinAld\", \"CPAcd\", \"CinAld_CPAcd\")"
   ]
  },
  {
   "cell_type": "code",
   "execution_count": null,
   "metadata": {},
   "outputs": [],
   "source": [
    "color_plots(\"CinAld\",\"2Hep\",\"CinAld_2Hep\")"
   ]
  },
  {
   "cell_type": "code",
   "execution_count": null,
   "metadata": {},
   "outputs": [],
   "source": [
    "color_plots(\"CinAld\", \"IBAcd\",\"CinAld_IBAcd\")"
   ]
  },
  {
   "cell_type": "code",
   "execution_count": null,
   "metadata": {},
   "outputs": [],
   "source": [
    "color_plots(\"CinAld\",\"IVAcd\",\"CinAld_IVAcd\")"
   ]
  },
  {
   "cell_type": "code",
   "execution_count": null,
   "metadata": {},
   "outputs": [],
   "source": [
    "color_plots(\"EB\", \"CPAcd\", \"EB_CPAcd\")"
   ]
  },
  {
   "cell_type": "code",
   "execution_count": null,
   "metadata": {},
   "outputs": [],
   "source": [
    "color_plots(\"EB\", \"2Hep\",\"EB_2Hep\")"
   ]
  },
  {
   "cell_type": "code",
   "execution_count": null,
   "metadata": {},
   "outputs": [],
   "source": [
    "color_plots(\"EB\", \"IBAcd\",\"EB_IBAcd\")"
   ]
  },
  {
   "cell_type": "code",
   "execution_count": null,
   "metadata": {},
   "outputs": [],
   "source": [
    "color_plots(\"EB\",\"IVAcd\",\"EB_IVAcd\")"
   ]
  },
  {
   "cell_type": "code",
   "execution_count": null,
   "metadata": {},
   "outputs": [],
   "source": [
    "color_plots(\"2MBAcd\",\"CPAcd\",\"2MBAcd_CPAcd\")"
   ]
  },
  {
   "cell_type": "code",
   "execution_count": null,
   "metadata": {},
   "outputs": [],
   "source": [
    "color_plots(\"2MBAcd\",\"2Hep\",\"2MBAcd_2Hep\")"
   ]
  },
  {
   "cell_type": "code",
   "execution_count": null,
   "metadata": {},
   "outputs": [],
   "source": [
    "color_plots(\"2MBAcd\",\"IBAcd\", \"2MBAcd_IBAcd\")"
   ]
  },
  {
   "cell_type": "code",
   "execution_count": null,
   "metadata": {},
   "outputs": [],
   "source": [
    "color_plots(\"2MBAcd\",\"IVAcd\",\"2MBAcd_IVAcd\")"
   ]
  },
  {
   "cell_type": "code",
   "execution_count": null,
   "metadata": {},
   "outputs": [],
   "source": [
    "color_plots(\"22DMBAcd\",\"CPAcd\",\"22DMBAcd_CPAcd\")"
   ]
  },
  {
   "cell_type": "code",
   "execution_count": null,
   "metadata": {},
   "outputs": [],
   "source": [
    "color_plots(\"22DMBAcd\", \"2Hep\", \"22DMBAcd_2Hep\")"
   ]
  },
  {
   "cell_type": "code",
   "execution_count": null,
   "metadata": {},
   "outputs": [],
   "source": [
    "color_plots(\"22DMBAcd\", \"IBAcd\", \"22DMBAcd_IBAcd\")"
   ]
  },
  {
   "cell_type": "code",
   "execution_count": null,
   "metadata": {},
   "outputs": [],
   "source": [
    "color_plots(\"22DMBAcd\", \"IVAcd\", \"22DMBAcd_IVAcd\")"
   ]
  },
  {
   "cell_type": "markdown",
   "metadata": {},
   "source": [
    "### Histograms"
   ]
  },
  {
   "cell_type": "code",
   "execution_count": null,
   "metadata": {},
   "outputs": [],
   "source": [
    "import matplotlib.pyplot as plt\n",
    "import numpy as np\n",
    "import math"
   ]
  },
  {
   "cell_type": "code",
   "execution_count": null,
   "metadata": {},
   "outputs": [],
   "source": [
    "x = np.linspace(-10, 10, 100) \n",
    "z = 1/(1 + np.exp(-x)) \n",
    "plt.plot(x, z) "
   ]
  },
  {
   "cell_type": "code",
   "execution_count": null,
   "metadata": {},
   "outputs": [],
   "source": [
    "x = np.linspace(0, 10, 100)\n",
    "z = np.exp(x)/(1+np.exp(x))\n",
    "plt.plot(x,z)"
   ]
  },
  {
   "cell_type": "code",
   "execution_count": null,
   "metadata": {},
   "outputs": [],
   "source": [
    "x = np.linspace(0, 1.5, 100)\n",
    "a = 0.53\n",
    "b = 5.86\n",
    "c = 0.72\n",
    "d = 0.13\n",
    "z = d + ((c-d)/(1+np.exp(-b*(x-a))))\n",
    "plt.plot(x,z)"
   ]
  },
  {
   "cell_type": "code",
   "execution_count": null,
   "metadata": {},
   "outputs": [],
   "source": [
    "x = np.linspace(0, 1.5, 100)\n",
    "z = 0.13+(0.59/(1+np.exp(-5.86*(x-0.53))))\n",
    "plt.plot(x,z)"
   ]
  },
  {
   "cell_type": "code",
   "execution_count": null,
   "metadata": {},
   "outputs": [],
   "source": [
    "import pickle"
   ]
  },
  {
   "cell_type": "code",
   "execution_count": null,
   "metadata": {},
   "outputs": [],
   "source": [
    "with open('DMTS_8odors_5acids_allMice_raw_PerceptualData_forRick_122319.pkl', 'rb') as f:\n",
    "        real_data = pickle.load(f)"
   ]
  },
  {
   "cell_type": "code",
   "execution_count": null,
   "metadata": {},
   "outputs": [],
   "source": [
    "import numpy as np\n",
    "import pandas as pd"
   ]
  },
  {
   "cell_type": "code",
   "execution_count": null,
   "metadata": {},
   "outputs": [],
   "source": [
    "#np.vstack(real_data[\"data\"])\n",
    "#real_data[\"data\"][0]\n",
    "data = pd.concat(real_data[\"data\"])\n",
    "#data[\"odor_1st\"].unique()\n",
    "data.loc[:, [\"odor_1st\", \"odor_2nd\"]] -= 1"
   ]
  },
  {
   "cell_type": "code",
   "execution_count": null,
   "metadata": {},
   "outputs": [],
   "source": [
    "#pd.concat(real_data[\"data\"])\n",
    "data.loc[:, [\"odor_1st\", \"odor_2nd\"]]"
   ]
  },
  {
   "cell_type": "code",
   "execution_count": null,
   "metadata": {},
   "outputs": [],
   "source": [
    "set_one = data.loc[:, [\"odor_1st\"]].values\n",
    "set_two = data.loc[:, [\"odor_2nd\"]].values\n",
    "promise = set_one + set_two\n",
    "promise"
   ]
  },
  {
   "cell_type": "code",
   "execution_count": null,
   "metadata": {},
   "outputs": [],
   "source": [
    "data[\"odor_1st\"].unique()"
   ]
  },
  {
   "cell_type": "code",
   "execution_count": null,
   "metadata": {},
   "outputs": [],
   "source": [
    "dir(data)"
   ]
  },
  {
   "cell_type": "code",
   "execution_count": null,
   "metadata": {},
   "outputs": [],
   "source": [
    "data.odor_1st.array."
   ]
  },
  {
   "cell_type": "code",
   "execution_count": null,
   "metadata": {},
   "outputs": [],
   "source": [
    "len(real_data[\"data\"])"
   ]
  },
  {
   "cell_type": "code",
   "execution_count": null,
   "metadata": {},
   "outputs": [],
   "source": [
    "#4199 rows = 4199 trials\n",
    "trial = real_data[\"data\"][1]"
   ]
  },
  {
   "cell_type": "code",
   "execution_count": null,
   "metadata": {},
   "outputs": [],
   "source": [
    "trial.iloc[:,0]"
   ]
  },
  {
   "cell_type": "code",
   "execution_count": null,
   "metadata": {},
   "outputs": [],
   "source": [
    "real_data['odorNames']"
   ]
  },
  {
   "cell_type": "code",
   "execution_count": null,
   "metadata": {},
   "outputs": [],
   "source": [
    "real_data.keys()"
   ]
  },
  {
   "cell_type": "code",
   "execution_count": null,
   "metadata": {},
   "outputs": [],
   "source": []
  },
  {
   "cell_type": "code",
   "execution_count": null,
   "metadata": {},
   "outputs": [],
   "source": []
  }
 ],
 "metadata": {
  "kernelspec": {
   "display_name": "Python 3",
   "language": "python",
   "name": "python3"
  },
  "language_info": {
   "codemirror_mode": {
    "name": "ipython",
    "version": 3
   },
   "file_extension": ".py",
   "mimetype": "text/x-python",
   "name": "python",
   "nbconvert_exporter": "python",
   "pygments_lexer": "ipython3",
   "version": "3.8.3"
  }
 },
 "nbformat": 4,
 "nbformat_minor": 4
}
