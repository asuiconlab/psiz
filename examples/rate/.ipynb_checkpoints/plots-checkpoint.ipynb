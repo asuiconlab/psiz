{
 "cells": [
  {
   "cell_type": "code",
   "execution_count": null,
   "metadata": {},
   "outputs": [],
   "source": [
    "def color_plots(mix_one, mix_two, mixture):\n",
    "    colors = [\"black\"]*25\n",
    "    c = data[\"odorNames\"].index(mix_one)\n",
    "    h = data[\"odorNames\"].index(mix_two)\n",
    "    ch = data[\"odorNames\"].index(mixture)\n",
    "    colors[c] = \"red\"\n",
    "    colors[h] = \"blue\"\n",
    "    colors[ch] = \"purple\"\n",
    "    plt.scatter(*coords.T, c = colors)"
   ]
  }
 ],
 "metadata": {
  "kernelspec": {
   "display_name": "Python 3",
   "language": "python",
   "name": "python3"
  },
  "language_info": {
   "codemirror_mode": {
    "name": "ipython",
    "version": 3
   },
   "file_extension": ".py",
   "mimetype": "text/x-python",
   "name": "python",
   "nbconvert_exporter": "python",
   "pygments_lexer": "ipython3",
   "version": "3.8.3"
  }
 },
 "nbformat": 4,
 "nbformat_minor": 4
}
