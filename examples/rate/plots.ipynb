{
 "cells": [
  {
   "cell_type": "code",
   "execution_count": 1,
   "metadata": {},
   "outputs": [],
   "source": [
    "#could explore more to figure out what dtype is and where it is suppose to come from"
   ]
  },
  {
   "cell_type": "code",
   "execution_count": 57,
   "metadata": {},
   "outputs": [],
   "source": [
    "import pickle\n",
    "with open('DMTS_8odors_5acids_allMice_raw_PerceptualData_forRick_122319.pkl', 'rb') as f:\n",
    "        data = pickle.load(f)"
   ]
  },
  {
   "cell_type": "code",
   "execution_count": 3,
   "metadata": {},
   "outputs": [
    {
     "data": {
      "text/plain": [
       "24"
      ]
     },
     "execution_count": 3,
     "metadata": {},
     "output_type": "execute_result"
    }
   ],
   "source": [
    "import pandas as pd\n",
    "len(data[\"data\"][0][\"odor_1st\"].unique())\n",
    "data_values = pd.concat(data[\"data\"])\n",
    "len(data_values[\"odor_2nd\"].unique() & data_values[\"odor_1st\"].unique() )"
   ]
  },
  {
   "cell_type": "code",
   "execution_count": 4,
   "metadata": {},
   "outputs": [],
   "source": [
    "import keras\n",
    "from mle_1g_test import build_model\n",
    "import numpy as np\n",
    "import matplotlib.pyplot as plt\n",
    "import psiz\n",
    "import tensorflow as tf\n",
    "import plotly.graph_objects as go\n",
    "import plotly"
   ]
  },
  {
   "cell_type": "code",
   "execution_count": 5,
   "metadata": {},
   "outputs": [],
   "source": [
    "#reconstructed_model = psiz.models.load_model(\"saving_whole_model\")"
   ]
  },
  {
   "cell_type": "code",
   "execution_count": 6,
   "metadata": {},
   "outputs": [],
   "source": [
    "kinds_of_models = pickle.load(open(\"kinds_of_models.p\", \"rb\"))"
   ]
  },
  {
   "cell_type": "code",
   "execution_count": 7,
   "metadata": {},
   "outputs": [
    {
     "data": {
      "text/plain": [
       "{'rho__beta_trainable': {'rho_trainable': True,\n",
       "  'beta_trainable': True,\n",
       "  'gamma_trainable': False,\n",
       "  'tau_trainable': False},\n",
       " 'beta_trainable': {'rho_trainable': False,\n",
       "  'beta_trainable': True,\n",
       "  'gamma_trainable': False,\n",
       "  'tau_trainable': False},\n",
       " 'all_trainable': {'rho_trainable': True,\n",
       "  'beta_trainable': True,\n",
       "  'gamma_trainable': True,\n",
       "  'tau_trainable': True}}"
      ]
     },
     "execution_count": 7,
     "metadata": {},
     "output_type": "execute_result"
    }
   ],
   "source": [
    "kinds_of_models"
   ]
  },
  {
   "cell_type": "code",
   "execution_count": 8,
   "metadata": {},
   "outputs": [],
   "source": [
    "models = {kind_of_model: build_model(24, 2, **kwargs) for kind_of_model, kwargs in kinds_of_models.items()}"
   ]
  },
  {
   "cell_type": "code",
   "execution_count": 9,
   "metadata": {},
   "outputs": [
    {
     "data": {
      "text/plain": [
       "{'rho__beta_trainable': <psiz.models.rate.Rate at 0x7f6e6b70f370>,\n",
       " 'beta_trainable': <psiz.models.rate.Rate at 0x7f6e68697a60>,\n",
       " 'all_trainable': <psiz.models.rate.Rate at 0x7f6e686a3f40>}"
      ]
     },
     "execution_count": 9,
     "metadata": {},
     "output_type": "execute_result"
    }
   ],
   "source": [
    "models"
   ]
  },
  {
   "cell_type": "code",
   "execution_count": 10,
   "metadata": {},
   "outputs": [],
   "source": [
    "for kind_of_model in models:\n",
    "    models[kind_of_model].load_weights(\"weights_%s\" % kind_of_model)"
   ]
  },
  {
   "cell_type": "code",
   "execution_count": 11,
   "metadata": {},
   "outputs": [],
   "source": [
    "#1. Does not load embeddings but the line works\n",
    "#This doesn't do much because embedding is already set to this, the models already know the dimensions\n",
    "#models[\"all_trainable\"].stimuli.embedding = tf.keras.layers.Embedding(25, 2, mask_zero=True)\n",
    "#Example: rho_beta_true.stimuli.embedding = tf.keras.layers.Embedding(n_stimuli+1, n_dim, mask_zero=True)"
   ]
  },
  {
   "cell_type": "code",
   "execution_count": 12,
   "metadata": {},
   "outputs": [],
   "source": [
    "#2. Does not work\n",
    "#This approach does not work because it does not recognize \"mask_zero\"\n",
    "#models[\"all_trainable\"].stimuli.embedding(tf.keras.layers.Embedding, 25, 2, mask_zero=True)\n",
    "#Example : #rho_beta_true.stimuli.embedding(tf.keras.layers.Embedding, n_stimuli+1, n_dim, mask_zero=True)"
   ]
  },
  {
   "cell_type": "code",
   "execution_count": 13,
   "metadata": {},
   "outputs": [],
   "source": [
    "#3. Works but gives the same kind of error as number 4\n",
    "#This is the error I get with this approach \"AttributeError: 'str' object has no attribute 'base_dtype'\"\" but this approach does work as well\n",
    "#models[\"all_trainable\"].stimuli.embedding(tf.keras.layers.Embedding(25+1, 2, mask_zero=True))\n",
    "# Example: rho_beta_true.stimuli.embedding(tf.keras.layers.Embedding(n_stimuli+1, n_dim, mask_zero=True))"
   ]
  },
  {
   "cell_type": "code",
   "execution_count": 14,
   "metadata": {},
   "outputs": [
    {
     "data": {
      "text/plain": [
       "[<tf.Variable 'beta:0' shape=() dtype=float32, numpy=1.0005667>,\n",
       " <tf.Variable 'gamma:0' shape=() dtype=float32, numpy=0.30184758>,\n",
       " <tf.Variable 'rho:0' shape=() dtype=float32, numpy=1.002886>,\n",
       " <tf.Variable 'tau:0' shape=() dtype=float32, numpy=1.2697594>,\n",
       " <tf.Variable 'lower:0' shape=() dtype=float32, numpy=0.014728185>,\n",
       " <tf.Variable 'upper:0' shape=() dtype=float32, numpy=0.7523214>,\n",
       " <tf.Variable 'midpoint:0' shape=() dtype=float32, numpy=0.50458354>,\n",
       " <tf.Variable 'rate:0' shape=() dtype=float32, numpy=3.7058692>]"
      ]
     },
     "execution_count": 14,
     "metadata": {},
     "output_type": "execute_result"
    }
   ],
   "source": [
    "models[\"all_trainable\"].weights"
   ]
  },
  {
   "cell_type": "code",
   "execution_count": 15,
   "metadata": {},
   "outputs": [],
   "source": [
    "#models[\"all_trainable\"].stimuli.embedding(psiz.psiz.keras.layers.embeddings.EmbeddingLogNormalDiag)"
   ]
  },
  {
   "cell_type": "code",
   "execution_count": 16,
   "metadata": {},
   "outputs": [
    {
     "ename": "AttributeError",
     "evalue": "module 'psiz.keras.layers.embeddings' has no attribute 'dtype'",
     "output_type": "error",
     "traceback": [
      "\u001b[0;31m---------------------------------------------------------------------------\u001b[0m",
      "\u001b[0;31mAttributeError\u001b[0m                            Traceback (most recent call last)",
      "\u001b[0;32m<ipython-input-16-ae909f8ea0df>\u001b[0m in \u001b[0;36m<module>\u001b[0;34m\u001b[0m\n\u001b[1;32m      1\u001b[0m \u001b[0;31m# This \"For user-defined classes which inherit from tf.keras.Model, Layer instances must be assigned to object attributes, typically in the constructor.\"\u001b[0m\u001b[0;34m\u001b[0m\u001b[0;34m\u001b[0m\u001b[0;34m\u001b[0m\u001b[0m\n\u001b[1;32m      2\u001b[0m \u001b[0;31m# is why I had to pass the class in the constructor\u001b[0m\u001b[0;34m\u001b[0m\u001b[0;34m\u001b[0m\u001b[0;34m\u001b[0m\u001b[0m\n\u001b[0;32m----> 3\u001b[0;31m \u001b[0mmodels\u001b[0m\u001b[0;34m[\u001b[0m\u001b[0;34m\"all_trainable\"\u001b[0m\u001b[0;34m]\u001b[0m\u001b[0;34m.\u001b[0m\u001b[0mstimuli\u001b[0m\u001b[0;34m.\u001b[0m\u001b[0membedding\u001b[0m\u001b[0;34m(\u001b[0m\u001b[0mpsiz\u001b[0m\u001b[0;34m.\u001b[0m\u001b[0mpsiz\u001b[0m\u001b[0;34m.\u001b[0m\u001b[0mkeras\u001b[0m\u001b[0;34m.\u001b[0m\u001b[0mlayers\u001b[0m\u001b[0;34m.\u001b[0m\u001b[0membeddings\u001b[0m\u001b[0;34m)\u001b[0m\u001b[0;34m\u001b[0m\u001b[0;34m\u001b[0m\u001b[0m\n\u001b[0m",
      "\u001b[0;32m~/.local/lib/python3.8/site-packages/tensorflow/python/keras/engine/base_layer.py\u001b[0m in \u001b[0;36m__call__\u001b[0;34m(self, *args, **kwargs)\u001b[0m\n\u001b[1;32m    983\u001b[0m \u001b[0;34m\u001b[0m\u001b[0m\n\u001b[1;32m    984\u001b[0m         \u001b[0;32mwith\u001b[0m \u001b[0mops\u001b[0m\u001b[0;34m.\u001b[0m\u001b[0menable_auto_cast_variables\u001b[0m\u001b[0;34m(\u001b[0m\u001b[0mself\u001b[0m\u001b[0;34m.\u001b[0m\u001b[0m_compute_dtype_object\u001b[0m\u001b[0;34m)\u001b[0m\u001b[0;34m:\u001b[0m\u001b[0;34m\u001b[0m\u001b[0;34m\u001b[0m\u001b[0m\n\u001b[0;32m--> 985\u001b[0;31m           \u001b[0moutputs\u001b[0m \u001b[0;34m=\u001b[0m \u001b[0mcall_fn\u001b[0m\u001b[0;34m(\u001b[0m\u001b[0minputs\u001b[0m\u001b[0;34m,\u001b[0m \u001b[0;34m*\u001b[0m\u001b[0margs\u001b[0m\u001b[0;34m,\u001b[0m \u001b[0;34m**\u001b[0m\u001b[0mkwargs\u001b[0m\u001b[0;34m)\u001b[0m\u001b[0;34m\u001b[0m\u001b[0;34m\u001b[0m\u001b[0m\n\u001b[0m\u001b[1;32m    986\u001b[0m \u001b[0;34m\u001b[0m\u001b[0m\n\u001b[1;32m    987\u001b[0m         \u001b[0;32mif\u001b[0m \u001b[0mself\u001b[0m\u001b[0;34m.\u001b[0m\u001b[0m_activity_regularizer\u001b[0m\u001b[0;34m:\u001b[0m\u001b[0;34m\u001b[0m\u001b[0;34m\u001b[0m\u001b[0m\n",
      "\u001b[0;32m~/.local/lib/python3.8/site-packages/tensorflow/python/keras/layers/embeddings.py\u001b[0m in \u001b[0;36mcall\u001b[0;34m(self, inputs)\u001b[0m\n\u001b[1;32m    181\u001b[0m \u001b[0;34m\u001b[0m\u001b[0m\n\u001b[1;32m    182\u001b[0m   \u001b[0;32mdef\u001b[0m \u001b[0mcall\u001b[0m\u001b[0;34m(\u001b[0m\u001b[0mself\u001b[0m\u001b[0;34m,\u001b[0m \u001b[0minputs\u001b[0m\u001b[0;34m)\u001b[0m\u001b[0;34m:\u001b[0m\u001b[0;34m\u001b[0m\u001b[0;34m\u001b[0m\u001b[0m\n\u001b[0;32m--> 183\u001b[0;31m     \u001b[0mdtype\u001b[0m \u001b[0;34m=\u001b[0m \u001b[0mK\u001b[0m\u001b[0;34m.\u001b[0m\u001b[0mdtype\u001b[0m\u001b[0;34m(\u001b[0m\u001b[0minputs\u001b[0m\u001b[0;34m)\u001b[0m\u001b[0;34m\u001b[0m\u001b[0;34m\u001b[0m\u001b[0m\n\u001b[0m\u001b[1;32m    184\u001b[0m     \u001b[0;32mif\u001b[0m \u001b[0mdtype\u001b[0m \u001b[0;34m!=\u001b[0m \u001b[0;34m'int32'\u001b[0m \u001b[0;32mand\u001b[0m \u001b[0mdtype\u001b[0m \u001b[0;34m!=\u001b[0m \u001b[0;34m'int64'\u001b[0m\u001b[0;34m:\u001b[0m\u001b[0;34m\u001b[0m\u001b[0;34m\u001b[0m\u001b[0m\n\u001b[1;32m    185\u001b[0m       \u001b[0minputs\u001b[0m \u001b[0;34m=\u001b[0m \u001b[0mmath_ops\u001b[0m\u001b[0;34m.\u001b[0m\u001b[0mcast\u001b[0m\u001b[0;34m(\u001b[0m\u001b[0minputs\u001b[0m\u001b[0;34m,\u001b[0m \u001b[0;34m'int32'\u001b[0m\u001b[0;34m)\u001b[0m\u001b[0;34m\u001b[0m\u001b[0;34m\u001b[0m\u001b[0m\n",
      "\u001b[0;32m~/.local/lib/python3.8/site-packages/tensorflow/python/util/dispatch.py\u001b[0m in \u001b[0;36mwrapper\u001b[0;34m(*args, **kwargs)\u001b[0m\n\u001b[1;32m    199\u001b[0m     \u001b[0;34m\"\"\"Call target, and fall back on dispatchers if there is a TypeError.\"\"\"\u001b[0m\u001b[0;34m\u001b[0m\u001b[0;34m\u001b[0m\u001b[0m\n\u001b[1;32m    200\u001b[0m     \u001b[0;32mtry\u001b[0m\u001b[0;34m:\u001b[0m\u001b[0;34m\u001b[0m\u001b[0;34m\u001b[0m\u001b[0m\n\u001b[0;32m--> 201\u001b[0;31m       \u001b[0;32mreturn\u001b[0m \u001b[0mtarget\u001b[0m\u001b[0;34m(\u001b[0m\u001b[0;34m*\u001b[0m\u001b[0margs\u001b[0m\u001b[0;34m,\u001b[0m \u001b[0;34m**\u001b[0m\u001b[0mkwargs\u001b[0m\u001b[0;34m)\u001b[0m\u001b[0;34m\u001b[0m\u001b[0;34m\u001b[0m\u001b[0m\n\u001b[0m\u001b[1;32m    202\u001b[0m     \u001b[0;32mexcept\u001b[0m \u001b[0;34m(\u001b[0m\u001b[0mTypeError\u001b[0m\u001b[0;34m,\u001b[0m \u001b[0mValueError\u001b[0m\u001b[0;34m)\u001b[0m\u001b[0;34m:\u001b[0m\u001b[0;34m\u001b[0m\u001b[0;34m\u001b[0m\u001b[0m\n\u001b[1;32m    203\u001b[0m       \u001b[0;31m# Note: convert_to_eager_tensor currently raises a ValueError, not a\u001b[0m\u001b[0;34m\u001b[0m\u001b[0;34m\u001b[0m\u001b[0;34m\u001b[0m\u001b[0m\n",
      "\u001b[0;32m~/.local/lib/python3.8/site-packages/tensorflow/python/keras/backend.py\u001b[0m in \u001b[0;36mdtype\u001b[0;34m(x)\u001b[0m\n\u001b[1;32m   1369\u001b[0m \u001b[0;34m\u001b[0m\u001b[0m\n\u001b[1;32m   1370\u001b[0m   \"\"\"\n\u001b[0;32m-> 1371\u001b[0;31m   \u001b[0;32mreturn\u001b[0m \u001b[0mx\u001b[0m\u001b[0;34m.\u001b[0m\u001b[0mdtype\u001b[0m\u001b[0;34m.\u001b[0m\u001b[0mbase_dtype\u001b[0m\u001b[0;34m.\u001b[0m\u001b[0mname\u001b[0m\u001b[0;34m\u001b[0m\u001b[0;34m\u001b[0m\u001b[0m\n\u001b[0m\u001b[1;32m   1372\u001b[0m \u001b[0;34m\u001b[0m\u001b[0m\n\u001b[1;32m   1373\u001b[0m \u001b[0;34m\u001b[0m\u001b[0m\n",
      "\u001b[0;31mAttributeError\u001b[0m: module 'psiz.keras.layers.embeddings' has no attribute 'dtype'"
     ]
    }
   ],
   "source": [
    "# This \"For user-defined classes which inherit from tf.keras.Model, Layer instances must be assigned to object attributes, typically in the constructor.\" \n",
    "# is why I had to pass the class in the constructor\n",
    "models[\"all_trainable\"].stimuli.embedding(psiz.psiz.keras.layers.embeddings)"
   ]
  },
  {
   "cell_type": "code",
   "execution_count": 17,
   "metadata": {},
   "outputs": [
    {
     "ename": "AttributeError",
     "evalue": "module 'psiz.keras.layers.embeddings' has no attribute 'dtype'",
     "output_type": "error",
     "traceback": [
      "\u001b[0;31m---------------------------------------------------------------------------\u001b[0m",
      "\u001b[0;31mAttributeError\u001b[0m                            Traceback (most recent call last)",
      "\u001b[0;32m<ipython-input-17-e2e46d0afd9d>\u001b[0m in \u001b[0;36m<module>\u001b[0;34m\u001b[0m\n\u001b[0;32m----> 1\u001b[0;31m \u001b[0mmodels\u001b[0m\u001b[0;34m[\u001b[0m\u001b[0;34m\"beta_trainable\"\u001b[0m\u001b[0;34m]\u001b[0m\u001b[0;34m.\u001b[0m\u001b[0mstimuli\u001b[0m\u001b[0;34m.\u001b[0m\u001b[0membedding\u001b[0m\u001b[0;34m(\u001b[0m\u001b[0mpsiz\u001b[0m\u001b[0;34m.\u001b[0m\u001b[0mpsiz\u001b[0m\u001b[0;34m.\u001b[0m\u001b[0mkeras\u001b[0m\u001b[0;34m.\u001b[0m\u001b[0mlayers\u001b[0m\u001b[0;34m.\u001b[0m\u001b[0membeddings\u001b[0m\u001b[0;34m)\u001b[0m\u001b[0;34m\u001b[0m\u001b[0;34m\u001b[0m\u001b[0m\n\u001b[0m",
      "\u001b[0;32m~/.local/lib/python3.8/site-packages/tensorflow/python/keras/engine/base_layer.py\u001b[0m in \u001b[0;36m__call__\u001b[0;34m(self, *args, **kwargs)\u001b[0m\n\u001b[1;32m    983\u001b[0m \u001b[0;34m\u001b[0m\u001b[0m\n\u001b[1;32m    984\u001b[0m         \u001b[0;32mwith\u001b[0m \u001b[0mops\u001b[0m\u001b[0;34m.\u001b[0m\u001b[0menable_auto_cast_variables\u001b[0m\u001b[0;34m(\u001b[0m\u001b[0mself\u001b[0m\u001b[0;34m.\u001b[0m\u001b[0m_compute_dtype_object\u001b[0m\u001b[0;34m)\u001b[0m\u001b[0;34m:\u001b[0m\u001b[0;34m\u001b[0m\u001b[0;34m\u001b[0m\u001b[0m\n\u001b[0;32m--> 985\u001b[0;31m           \u001b[0moutputs\u001b[0m \u001b[0;34m=\u001b[0m \u001b[0mcall_fn\u001b[0m\u001b[0;34m(\u001b[0m\u001b[0minputs\u001b[0m\u001b[0;34m,\u001b[0m \u001b[0;34m*\u001b[0m\u001b[0margs\u001b[0m\u001b[0;34m,\u001b[0m \u001b[0;34m**\u001b[0m\u001b[0mkwargs\u001b[0m\u001b[0;34m)\u001b[0m\u001b[0;34m\u001b[0m\u001b[0;34m\u001b[0m\u001b[0m\n\u001b[0m\u001b[1;32m    986\u001b[0m \u001b[0;34m\u001b[0m\u001b[0m\n\u001b[1;32m    987\u001b[0m         \u001b[0;32mif\u001b[0m \u001b[0mself\u001b[0m\u001b[0;34m.\u001b[0m\u001b[0m_activity_regularizer\u001b[0m\u001b[0;34m:\u001b[0m\u001b[0;34m\u001b[0m\u001b[0;34m\u001b[0m\u001b[0m\n",
      "\u001b[0;32m~/.local/lib/python3.8/site-packages/tensorflow/python/keras/layers/embeddings.py\u001b[0m in \u001b[0;36mcall\u001b[0;34m(self, inputs)\u001b[0m\n\u001b[1;32m    181\u001b[0m \u001b[0;34m\u001b[0m\u001b[0m\n\u001b[1;32m    182\u001b[0m   \u001b[0;32mdef\u001b[0m \u001b[0mcall\u001b[0m\u001b[0;34m(\u001b[0m\u001b[0mself\u001b[0m\u001b[0;34m,\u001b[0m \u001b[0minputs\u001b[0m\u001b[0;34m)\u001b[0m\u001b[0;34m:\u001b[0m\u001b[0;34m\u001b[0m\u001b[0;34m\u001b[0m\u001b[0m\n\u001b[0;32m--> 183\u001b[0;31m     \u001b[0mdtype\u001b[0m \u001b[0;34m=\u001b[0m \u001b[0mK\u001b[0m\u001b[0;34m.\u001b[0m\u001b[0mdtype\u001b[0m\u001b[0;34m(\u001b[0m\u001b[0minputs\u001b[0m\u001b[0;34m)\u001b[0m\u001b[0;34m\u001b[0m\u001b[0;34m\u001b[0m\u001b[0m\n\u001b[0m\u001b[1;32m    184\u001b[0m     \u001b[0;32mif\u001b[0m \u001b[0mdtype\u001b[0m \u001b[0;34m!=\u001b[0m \u001b[0;34m'int32'\u001b[0m \u001b[0;32mand\u001b[0m \u001b[0mdtype\u001b[0m \u001b[0;34m!=\u001b[0m \u001b[0;34m'int64'\u001b[0m\u001b[0;34m:\u001b[0m\u001b[0;34m\u001b[0m\u001b[0;34m\u001b[0m\u001b[0m\n\u001b[1;32m    185\u001b[0m       \u001b[0minputs\u001b[0m \u001b[0;34m=\u001b[0m \u001b[0mmath_ops\u001b[0m\u001b[0;34m.\u001b[0m\u001b[0mcast\u001b[0m\u001b[0;34m(\u001b[0m\u001b[0minputs\u001b[0m\u001b[0;34m,\u001b[0m \u001b[0;34m'int32'\u001b[0m\u001b[0;34m)\u001b[0m\u001b[0;34m\u001b[0m\u001b[0;34m\u001b[0m\u001b[0m\n",
      "\u001b[0;32m~/.local/lib/python3.8/site-packages/tensorflow/python/util/dispatch.py\u001b[0m in \u001b[0;36mwrapper\u001b[0;34m(*args, **kwargs)\u001b[0m\n\u001b[1;32m    199\u001b[0m     \u001b[0;34m\"\"\"Call target, and fall back on dispatchers if there is a TypeError.\"\"\"\u001b[0m\u001b[0;34m\u001b[0m\u001b[0;34m\u001b[0m\u001b[0m\n\u001b[1;32m    200\u001b[0m     \u001b[0;32mtry\u001b[0m\u001b[0;34m:\u001b[0m\u001b[0;34m\u001b[0m\u001b[0;34m\u001b[0m\u001b[0m\n\u001b[0;32m--> 201\u001b[0;31m       \u001b[0;32mreturn\u001b[0m \u001b[0mtarget\u001b[0m\u001b[0;34m(\u001b[0m\u001b[0;34m*\u001b[0m\u001b[0margs\u001b[0m\u001b[0;34m,\u001b[0m \u001b[0;34m**\u001b[0m\u001b[0mkwargs\u001b[0m\u001b[0;34m)\u001b[0m\u001b[0;34m\u001b[0m\u001b[0;34m\u001b[0m\u001b[0m\n\u001b[0m\u001b[1;32m    202\u001b[0m     \u001b[0;32mexcept\u001b[0m \u001b[0;34m(\u001b[0m\u001b[0mTypeError\u001b[0m\u001b[0;34m,\u001b[0m \u001b[0mValueError\u001b[0m\u001b[0;34m)\u001b[0m\u001b[0;34m:\u001b[0m\u001b[0;34m\u001b[0m\u001b[0;34m\u001b[0m\u001b[0m\n\u001b[1;32m    203\u001b[0m       \u001b[0;31m# Note: convert_to_eager_tensor currently raises a ValueError, not a\u001b[0m\u001b[0;34m\u001b[0m\u001b[0;34m\u001b[0m\u001b[0;34m\u001b[0m\u001b[0m\n",
      "\u001b[0;32m~/.local/lib/python3.8/site-packages/tensorflow/python/keras/backend.py\u001b[0m in \u001b[0;36mdtype\u001b[0;34m(x)\u001b[0m\n\u001b[1;32m   1369\u001b[0m \u001b[0;34m\u001b[0m\u001b[0m\n\u001b[1;32m   1370\u001b[0m   \"\"\"\n\u001b[0;32m-> 1371\u001b[0;31m   \u001b[0;32mreturn\u001b[0m \u001b[0mx\u001b[0m\u001b[0;34m.\u001b[0m\u001b[0mdtype\u001b[0m\u001b[0;34m.\u001b[0m\u001b[0mbase_dtype\u001b[0m\u001b[0;34m.\u001b[0m\u001b[0mname\u001b[0m\u001b[0;34m\u001b[0m\u001b[0;34m\u001b[0m\u001b[0m\n\u001b[0m\u001b[1;32m   1372\u001b[0m \u001b[0;34m\u001b[0m\u001b[0m\n\u001b[1;32m   1373\u001b[0m \u001b[0;34m\u001b[0m\u001b[0m\n",
      "\u001b[0;31mAttributeError\u001b[0m: module 'psiz.keras.layers.embeddings' has no attribute 'dtype'"
     ]
    }
   ],
   "source": [
    "models[\"beta_trainable\"].stimuli.embedding(psiz.psiz.keras.layers.embeddings)"
   ]
  },
  {
   "cell_type": "code",
   "execution_count": 18,
   "metadata": {},
   "outputs": [
    {
     "ename": "AttributeError",
     "evalue": "module 'psiz.keras.layers.embeddings' has no attribute 'dtype'",
     "output_type": "error",
     "traceback": [
      "\u001b[0;31m---------------------------------------------------------------------------\u001b[0m",
      "\u001b[0;31mAttributeError\u001b[0m                            Traceback (most recent call last)",
      "\u001b[0;32m<ipython-input-18-67cff772d44e>\u001b[0m in \u001b[0;36m<module>\u001b[0;34m\u001b[0m\n\u001b[0;32m----> 1\u001b[0;31m \u001b[0mmodels\u001b[0m\u001b[0;34m[\u001b[0m\u001b[0;34m\"rho__beta_trainable\"\u001b[0m\u001b[0;34m]\u001b[0m\u001b[0;34m.\u001b[0m\u001b[0mstimuli\u001b[0m\u001b[0;34m.\u001b[0m\u001b[0membedding\u001b[0m\u001b[0;34m(\u001b[0m\u001b[0mpsiz\u001b[0m\u001b[0;34m.\u001b[0m\u001b[0mpsiz\u001b[0m\u001b[0;34m.\u001b[0m\u001b[0mkeras\u001b[0m\u001b[0;34m.\u001b[0m\u001b[0mlayers\u001b[0m\u001b[0;34m.\u001b[0m\u001b[0membeddings\u001b[0m\u001b[0;34m)\u001b[0m\u001b[0;34m\u001b[0m\u001b[0;34m\u001b[0m\u001b[0m\n\u001b[0m",
      "\u001b[0;32m~/.local/lib/python3.8/site-packages/tensorflow/python/keras/engine/base_layer.py\u001b[0m in \u001b[0;36m__call__\u001b[0;34m(self, *args, **kwargs)\u001b[0m\n\u001b[1;32m    983\u001b[0m \u001b[0;34m\u001b[0m\u001b[0m\n\u001b[1;32m    984\u001b[0m         \u001b[0;32mwith\u001b[0m \u001b[0mops\u001b[0m\u001b[0;34m.\u001b[0m\u001b[0menable_auto_cast_variables\u001b[0m\u001b[0;34m(\u001b[0m\u001b[0mself\u001b[0m\u001b[0;34m.\u001b[0m\u001b[0m_compute_dtype_object\u001b[0m\u001b[0;34m)\u001b[0m\u001b[0;34m:\u001b[0m\u001b[0;34m\u001b[0m\u001b[0;34m\u001b[0m\u001b[0m\n\u001b[0;32m--> 985\u001b[0;31m           \u001b[0moutputs\u001b[0m \u001b[0;34m=\u001b[0m \u001b[0mcall_fn\u001b[0m\u001b[0;34m(\u001b[0m\u001b[0minputs\u001b[0m\u001b[0;34m,\u001b[0m \u001b[0;34m*\u001b[0m\u001b[0margs\u001b[0m\u001b[0;34m,\u001b[0m \u001b[0;34m**\u001b[0m\u001b[0mkwargs\u001b[0m\u001b[0;34m)\u001b[0m\u001b[0;34m\u001b[0m\u001b[0;34m\u001b[0m\u001b[0m\n\u001b[0m\u001b[1;32m    986\u001b[0m \u001b[0;34m\u001b[0m\u001b[0m\n\u001b[1;32m    987\u001b[0m         \u001b[0;32mif\u001b[0m \u001b[0mself\u001b[0m\u001b[0;34m.\u001b[0m\u001b[0m_activity_regularizer\u001b[0m\u001b[0;34m:\u001b[0m\u001b[0;34m\u001b[0m\u001b[0;34m\u001b[0m\u001b[0m\n",
      "\u001b[0;32m~/.local/lib/python3.8/site-packages/tensorflow/python/keras/layers/embeddings.py\u001b[0m in \u001b[0;36mcall\u001b[0;34m(self, inputs)\u001b[0m\n\u001b[1;32m    181\u001b[0m \u001b[0;34m\u001b[0m\u001b[0m\n\u001b[1;32m    182\u001b[0m   \u001b[0;32mdef\u001b[0m \u001b[0mcall\u001b[0m\u001b[0;34m(\u001b[0m\u001b[0mself\u001b[0m\u001b[0;34m,\u001b[0m \u001b[0minputs\u001b[0m\u001b[0;34m)\u001b[0m\u001b[0;34m:\u001b[0m\u001b[0;34m\u001b[0m\u001b[0;34m\u001b[0m\u001b[0m\n\u001b[0;32m--> 183\u001b[0;31m     \u001b[0mdtype\u001b[0m \u001b[0;34m=\u001b[0m \u001b[0mK\u001b[0m\u001b[0;34m.\u001b[0m\u001b[0mdtype\u001b[0m\u001b[0;34m(\u001b[0m\u001b[0minputs\u001b[0m\u001b[0;34m)\u001b[0m\u001b[0;34m\u001b[0m\u001b[0;34m\u001b[0m\u001b[0m\n\u001b[0m\u001b[1;32m    184\u001b[0m     \u001b[0;32mif\u001b[0m \u001b[0mdtype\u001b[0m \u001b[0;34m!=\u001b[0m \u001b[0;34m'int32'\u001b[0m \u001b[0;32mand\u001b[0m \u001b[0mdtype\u001b[0m \u001b[0;34m!=\u001b[0m \u001b[0;34m'int64'\u001b[0m\u001b[0;34m:\u001b[0m\u001b[0;34m\u001b[0m\u001b[0;34m\u001b[0m\u001b[0m\n\u001b[1;32m    185\u001b[0m       \u001b[0minputs\u001b[0m \u001b[0;34m=\u001b[0m \u001b[0mmath_ops\u001b[0m\u001b[0;34m.\u001b[0m\u001b[0mcast\u001b[0m\u001b[0;34m(\u001b[0m\u001b[0minputs\u001b[0m\u001b[0;34m,\u001b[0m \u001b[0;34m'int32'\u001b[0m\u001b[0;34m)\u001b[0m\u001b[0;34m\u001b[0m\u001b[0;34m\u001b[0m\u001b[0m\n",
      "\u001b[0;32m~/.local/lib/python3.8/site-packages/tensorflow/python/util/dispatch.py\u001b[0m in \u001b[0;36mwrapper\u001b[0;34m(*args, **kwargs)\u001b[0m\n\u001b[1;32m    199\u001b[0m     \u001b[0;34m\"\"\"Call target, and fall back on dispatchers if there is a TypeError.\"\"\"\u001b[0m\u001b[0;34m\u001b[0m\u001b[0;34m\u001b[0m\u001b[0m\n\u001b[1;32m    200\u001b[0m     \u001b[0;32mtry\u001b[0m\u001b[0;34m:\u001b[0m\u001b[0;34m\u001b[0m\u001b[0;34m\u001b[0m\u001b[0m\n\u001b[0;32m--> 201\u001b[0;31m       \u001b[0;32mreturn\u001b[0m \u001b[0mtarget\u001b[0m\u001b[0;34m(\u001b[0m\u001b[0;34m*\u001b[0m\u001b[0margs\u001b[0m\u001b[0;34m,\u001b[0m \u001b[0;34m**\u001b[0m\u001b[0mkwargs\u001b[0m\u001b[0;34m)\u001b[0m\u001b[0;34m\u001b[0m\u001b[0;34m\u001b[0m\u001b[0m\n\u001b[0m\u001b[1;32m    202\u001b[0m     \u001b[0;32mexcept\u001b[0m \u001b[0;34m(\u001b[0m\u001b[0mTypeError\u001b[0m\u001b[0;34m,\u001b[0m \u001b[0mValueError\u001b[0m\u001b[0;34m)\u001b[0m\u001b[0;34m:\u001b[0m\u001b[0;34m\u001b[0m\u001b[0;34m\u001b[0m\u001b[0m\n\u001b[1;32m    203\u001b[0m       \u001b[0;31m# Note: convert_to_eager_tensor currently raises a ValueError, not a\u001b[0m\u001b[0;34m\u001b[0m\u001b[0;34m\u001b[0m\u001b[0;34m\u001b[0m\u001b[0m\n",
      "\u001b[0;32m~/.local/lib/python3.8/site-packages/tensorflow/python/keras/backend.py\u001b[0m in \u001b[0;36mdtype\u001b[0;34m(x)\u001b[0m\n\u001b[1;32m   1369\u001b[0m \u001b[0;34m\u001b[0m\u001b[0m\n\u001b[1;32m   1370\u001b[0m   \"\"\"\n\u001b[0;32m-> 1371\u001b[0;31m   \u001b[0;32mreturn\u001b[0m \u001b[0mx\u001b[0m\u001b[0;34m.\u001b[0m\u001b[0mdtype\u001b[0m\u001b[0;34m.\u001b[0m\u001b[0mbase_dtype\u001b[0m\u001b[0;34m.\u001b[0m\u001b[0mname\u001b[0m\u001b[0;34m\u001b[0m\u001b[0;34m\u001b[0m\u001b[0m\n\u001b[0m\u001b[1;32m   1372\u001b[0m \u001b[0;34m\u001b[0m\u001b[0m\n\u001b[1;32m   1373\u001b[0m \u001b[0;34m\u001b[0m\u001b[0m\n",
      "\u001b[0;31mAttributeError\u001b[0m: module 'psiz.keras.layers.embeddings' has no attribute 'dtype'"
     ]
    }
   ],
   "source": [
    "models[\"rho__beta_trainable\"].stimuli.embedding(psiz.psiz.keras.layers.embeddings)"
   ]
  },
  {
   "cell_type": "code",
   "execution_count": 19,
   "metadata": {},
   "outputs": [],
   "source": [
    "coords_dictionary = {\n",
    "    'rho_beta_true_coords' : models[\"rho__beta_trainable\"].stimuli.embeddings.numpy()[0],\n",
    "    'beta_true_coords' : models[\"beta_trainable\"].stimuli.embeddings.numpy()[0],\n",
    "    'all_true_coords' : models[\"all_trainable\"].stimuli.embeddings.numpy()[0]\n",
    "}"
   ]
  },
  {
   "cell_type": "code",
   "execution_count": 20,
   "metadata": {},
   "outputs": [],
   "source": [
    "import plotly.express as px"
   ]
  },
  {
   "cell_type": "code",
   "execution_count": 21,
   "metadata": {},
   "outputs": [
    {
     "data": {
      "text/plain": [
       "['CinAld',\n",
       " 'EB',\n",
       " '2MBAcd',\n",
       " '22DMBAcd',\n",
       " 'CPAcd',\n",
       " '2Hep',\n",
       " 'IBAcd',\n",
       " 'IVAcd',\n",
       " 'CinAld_CPAcd',\n",
       " 'CinAld_2Hep',\n",
       " 'CinAld_IBAcd',\n",
       " 'CinAld_IVAcd',\n",
       " 'EB_CPAcd',\n",
       " 'EB_2Hep',\n",
       " 'EB_IBAcd',\n",
       " 'EB_IVAcd',\n",
       " '2MBAcd_CPAcd',\n",
       " '2MBAcd_2Hep',\n",
       " '2MBAcd_IBAcd',\n",
       " '2MBAcd_IVAcd',\n",
       " '22DMBAcd_CPAcd',\n",
       " '22DMBAcd_2Hep',\n",
       " '22DMBAcd_IBAcd',\n",
       " '22DMBAcd_IVAcd']"
      ]
     },
     "execution_count": 21,
     "metadata": {},
     "output_type": "execute_result"
    }
   ],
   "source": [
    "data[\"odorNames\"]"
   ]
  },
  {
   "cell_type": "code",
   "execution_count": 25,
   "metadata": {},
   "outputs": [],
   "source": [
    "def make_df(**all_data):\n",
    "    df = pd.DataFrame()\n",
    "    for every_coord in all_data.values():\n",
    "        single_dataframe = pd.DataFrame(every_coord[1:,:], index=data[\"odorNames\"], columns = [\"x\",\"y\"])\n",
    "        df = pd.concat([df, single_dataframe])\n",
    "    df[\"colors\"] = \"black\"\n",
    "    df[\"name\"] = df.index\n",
    "    return df"
   ]
  },
  {
   "cell_type": "code",
   "execution_count": 100,
   "metadata": {},
   "outputs": [],
   "source": [
    "def update_color(half_one, half_two, mixture):\n",
    "    odor_one_index = data[\"odorNames\"].index(half_one)\n",
    "    odor_two_index = data[\"odorNames\"].index(half_two)\n",
    "    mixture_index = data[\"odorNames\"].index(mixture)\n",
    "    mix_list = [\"black\"] * len(range(0, odor_one_index)) + [\"red\"] + [\"black\"] * len(range(odor_one_index+1, odor_two_index)) + [\"blue\"] + [\"black\"] * len(range(odor_two_index+1, mixture_index)) + [\"purple\"] + [\"black\"] * len(range(mixture_index+1,len(data[\"odorNames\"])))\n",
    "    return mix_list"
   ]
  },
  {
   "cell_type": "code",
   "execution_count": 120,
   "metadata": {},
   "outputs": [],
   "source": [
    "def create_buttons(odor_mixture):\n",
    "    split_mixture = odor_mixture.split(\"_\")\n",
    "    update_color(split_mixture[0], split_mixture[1], odor_mixture)\n",
    "    button = dict(\n",
    "        label = odor_mixture,\n",
    "        method = \"restyle\",\n",
    "        args=[{\n",
    "            \"marker.color\" : [update_color(split_mixture[0], split_mixture[1], odor_mixture)]\n",
    "        }]\n",
    "    )\n",
    "    return button"
   ]
  },
  {
   "cell_type": "code",
   "execution_count": 136,
   "metadata": {},
   "outputs": [],
   "source": [
    "def color_plots(**data_coordinates):\n",
    "    all_data = make_df(**data_coordinates)\n",
    "    # come back to all_data shape being 72, but each coords is a set of 25\n",
    "    n_coords = len(list(data_coordinates.values())[0])\n",
    "\n",
    "    plot = go.Figure(\n",
    "        data=[\n",
    "            go.Scatter(\n",
    "                x=all_data.iloc[i : i + n_coords, 0],\n",
    "                y=all_data.iloc[i : i + n_coords, 1],\n",
    "                mode=\"markers\",\n",
    "                marker=dict(color=all_data.iloc[i : i + 24][\"colors\"]),\n",
    "            )\n",
    "            for i in [0, 24, 48]\n",
    "        ]\n",
    "    )\n",
    "\n",
    "    assign_name = 0\n",
    "    for trace in plot.data:\n",
    "        if assign_name != len(data_coordinates):\n",
    "            trace.name = list(data_coordinates)[assign_name]\n",
    "        assign_name += 1\n",
    "\n",
    "    plot.update_layout(\n",
    "        updatemenus=[\n",
    "            dict(\n",
    "                type=\"buttons\",\n",
    "                showactive=True,\n",
    "                active=True,\n",
    "                buttons=list(\n",
    "                    [\n",
    "                        create_buttons(odor) for odor in data[\"odorNames\"] if \"_\" in odor\n",
    "                    ]\n",
    "                ),\n",
    "            )\n",
    "        ]\n",
    "    )\n",
    "    plot.show()"
   ]
  },
  {
   "cell_type": "code",
   "execution_count": 137,
   "metadata": {},
   "outputs": [
    {
     "data": {
      "application/vnd.plotly.v1+json": {
       "config": {
        "plotlyServerURL": "https://plot.ly"
       },
       "data": [
        {
         "marker": {
          "color": [
           "black",
           "red",
           "black",
           "black",
           "black",
           "black",
           "black",
           "blue",
           "black",
           "black",
           "black",
           "black",
           "black",
           "black",
           "black",
           "purple",
           "black",
           "black",
           "black",
           "black",
           "black",
           "black",
           "black",
           "black"
          ]
         },
         "mode": "markers",
         "name": "rho_beta_true_coords",
         "type": "scatter",
         "visible": "legendonly",
         "x": [
          -0.0021386523731052876,
          2.5044000148773193,
          -0.8264955878257751,
          -1.8716753721237183,
          -1.2752529382705688,
          3.0019848346710205,
          0.255257248878479,
          -1.2392233610153198,
          -0.6527836918830872,
          3.2175230979919434,
          0.08743388950824738,
          -1.6649457216262817,
          2.481961488723755,
          2.677887201309204,
          2.35566782951355,
          2.12503719329834,
          -0.9816548824310303,
          2.9119818210601807,
          -0.33998042345046997,
          -0.980760395526886,
          -1.8758769035339355,
          2.647800922393799,
          -2.2511157989501953,
          -1.8758858442306519,
          -0.2064676731824875
         ],
         "y": [
          2.1751339435577393,
          -3.346052646636963,
          0.7365163564682007,
          1.1434322595596313,
          2.0288286209106445,
          -1.7143326997756958,
          0.9904507994651794,
          -0.21040895581245422,
          2.2790346145629883,
          -1.4739577770233154,
          1.710996150970459,
          -0.6297540068626404,
          -3.680960178375244,
          -2.682518482208252,
          -3.5066611766815186,
          -3.4887521266937256,
          1.3904187679290771,
          -1.1724668741226196,
          0.9187840223312378,
          0.09935685992240906,
          1.6508216857910156,
          -1.4813612699508667,
          0.9710911512374878,
          0.267641544342041,
          2.3465871810913086
         ]
        },
        {
         "marker": {
          "color": [
           "black",
           "red",
           "black",
           "black",
           "black",
           "black",
           "black",
           "blue",
           "black",
           "black",
           "black",
           "black",
           "black",
           "black",
           "black",
           "purple",
           "black",
           "black",
           "black",
           "black",
           "black",
           "black",
           "black",
           "black"
          ]
         },
         "mode": "markers",
         "name": "beta_true_coords",
         "type": "scatter",
         "visible": "legendonly",
         "x": [
          -0.2064676731824875,
          3.4166510105133057,
          -1.4520893096923828,
          -0.5869563221931458,
          0.17413324117660522,
          1.281383752822876,
          -1.7659355401992798,
          -2.574836492538452,
          0.20710931718349457,
          1.1011663675308228,
          -0.8207865953445435,
          -2.5945863723754883,
          3.6530089378356934,
          2.5631892681121826,
          3.7516469955444336,
          3.967177152633667,
          -0.7299484014511108,
          0.9336409568786621,
          -1.6521146297454834,
          -2.1567258834838867,
          -0.19948095083236694,
          0.6459822058677673,
          -0.7483168244361877,
          -1.5400104522705078,
          0.37070518732070923
         ],
         "y": [
          2.3465871810913086,
          -1.8904999494552612,
          0.8564885854721069,
          -0.45675820112228394,
          0.817261278629303,
          -1.8598383665084839,
          2.2427127361297607,
          -0.03856569156050682,
          1.681807518005371,
          -2.3517215251922607,
          2.429994583129883,
          -0.9188681244850159,
          -1.5576013326644897,
          -1.9943221807479858,
          -1.8829528093338013,
          -2.0229694843292236,
          0.8669697046279907,
          -2.394129514694214,
          1.5486817359924316,
          0.37729886174201965,
          -0.13828758895397186,
          -1.6406813859939575,
          -1.1383256912231445,
          -0.6052660346031189,
          -1.3452075719833374
         ]
        },
        {
         "marker": {
          "color": [
           "black",
           "red",
           "black",
           "black",
           "black",
           "black",
           "black",
           "blue",
           "black",
           "black",
           "black",
           "black",
           "black",
           "black",
           "black",
           "purple",
           "black",
           "black",
           "black",
           "black",
           "black",
           "black",
           "black",
           "black"
          ]
         },
         "mode": "markers",
         "name": "all_true_coords",
         "type": "scatter",
         "visible": true,
         "x": [
          0.37070518732070923,
          3.5492424964904785,
          0.059530194848775864,
          -0.2754213213920593,
          -0.35246142745018005,
          -0.1694013625383377,
          0.8804023265838623,
          -1.1728923320770264,
          -0.2010440081357956,
          0.08772815763950348,
          0.7495357394218445,
          -1.0597167015075684,
          3.5770466327667236,
          -0.27001532912254333,
          3.570413827896118,
          -1.5793180465698242,
          -0.17347760498523712,
          0.04109465703368187,
          0.64360111951828,
          -0.9509896636009216,
          -0.34673789143562317,
          -0.26798149943351746,
          0.5407863855361938,
          -1.0373363494873047
         ],
         "y": [
          -1.3452075719833374,
          -3.8313591480255127,
          -0.14858123660087585,
          0.6020181179046631,
          -0.9115645289421082,
          2.4336085319519043,
          -0.3926260471343994,
          -0.34731459617614746,
          -1.4539581537246704,
          2.3855578899383545,
          -1.222894310951233,
          -1.338610291481018,
          -3.80479097366333,
          3.385894298553467,
          -3.8134565353393555,
          3.696263074874878,
          -0.5434037446975708,
          2.1736514568328857,
          -0.1782652884721756,
          -0.14855511486530304,
          0.3744470179080963,
          2.0110042095184326,
          0.6084179878234863,
          0.6339705586433411
         ]
        }
       ],
       "layout": {
        "autosize": true,
        "template": {
         "data": {
          "bar": [
           {
            "error_x": {
             "color": "#2a3f5f"
            },
            "error_y": {
             "color": "#2a3f5f"
            },
            "marker": {
             "line": {
              "color": "#E5ECF6",
              "width": 0.5
             }
            },
            "type": "bar"
           }
          ],
          "barpolar": [
           {
            "marker": {
             "line": {
              "color": "#E5ECF6",
              "width": 0.5
             }
            },
            "type": "barpolar"
           }
          ],
          "carpet": [
           {
            "aaxis": {
             "endlinecolor": "#2a3f5f",
             "gridcolor": "white",
             "linecolor": "white",
             "minorgridcolor": "white",
             "startlinecolor": "#2a3f5f"
            },
            "baxis": {
             "endlinecolor": "#2a3f5f",
             "gridcolor": "white",
             "linecolor": "white",
             "minorgridcolor": "white",
             "startlinecolor": "#2a3f5f"
            },
            "type": "carpet"
           }
          ],
          "choropleth": [
           {
            "colorbar": {
             "outlinewidth": 0,
             "ticks": ""
            },
            "type": "choropleth"
           }
          ],
          "contour": [
           {
            "colorbar": {
             "outlinewidth": 0,
             "ticks": ""
            },
            "colorscale": [
             [
              0,
              "#0d0887"
             ],
             [
              0.1111111111111111,
              "#46039f"
             ],
             [
              0.2222222222222222,
              "#7201a8"
             ],
             [
              0.3333333333333333,
              "#9c179e"
             ],
             [
              0.4444444444444444,
              "#bd3786"
             ],
             [
              0.5555555555555556,
              "#d8576b"
             ],
             [
              0.6666666666666666,
              "#ed7953"
             ],
             [
              0.7777777777777778,
              "#fb9f3a"
             ],
             [
              0.8888888888888888,
              "#fdca26"
             ],
             [
              1,
              "#f0f921"
             ]
            ],
            "type": "contour"
           }
          ],
          "contourcarpet": [
           {
            "colorbar": {
             "outlinewidth": 0,
             "ticks": ""
            },
            "type": "contourcarpet"
           }
          ],
          "heatmap": [
           {
            "colorbar": {
             "outlinewidth": 0,
             "ticks": ""
            },
            "colorscale": [
             [
              0,
              "#0d0887"
             ],
             [
              0.1111111111111111,
              "#46039f"
             ],
             [
              0.2222222222222222,
              "#7201a8"
             ],
             [
              0.3333333333333333,
              "#9c179e"
             ],
             [
              0.4444444444444444,
              "#bd3786"
             ],
             [
              0.5555555555555556,
              "#d8576b"
             ],
             [
              0.6666666666666666,
              "#ed7953"
             ],
             [
              0.7777777777777778,
              "#fb9f3a"
             ],
             [
              0.8888888888888888,
              "#fdca26"
             ],
             [
              1,
              "#f0f921"
             ]
            ],
            "type": "heatmap"
           }
          ],
          "heatmapgl": [
           {
            "colorbar": {
             "outlinewidth": 0,
             "ticks": ""
            },
            "colorscale": [
             [
              0,
              "#0d0887"
             ],
             [
              0.1111111111111111,
              "#46039f"
             ],
             [
              0.2222222222222222,
              "#7201a8"
             ],
             [
              0.3333333333333333,
              "#9c179e"
             ],
             [
              0.4444444444444444,
              "#bd3786"
             ],
             [
              0.5555555555555556,
              "#d8576b"
             ],
             [
              0.6666666666666666,
              "#ed7953"
             ],
             [
              0.7777777777777778,
              "#fb9f3a"
             ],
             [
              0.8888888888888888,
              "#fdca26"
             ],
             [
              1,
              "#f0f921"
             ]
            ],
            "type": "heatmapgl"
           }
          ],
          "histogram": [
           {
            "marker": {
             "colorbar": {
              "outlinewidth": 0,
              "ticks": ""
             }
            },
            "type": "histogram"
           }
          ],
          "histogram2d": [
           {
            "colorbar": {
             "outlinewidth": 0,
             "ticks": ""
            },
            "colorscale": [
             [
              0,
              "#0d0887"
             ],
             [
              0.1111111111111111,
              "#46039f"
             ],
             [
              0.2222222222222222,
              "#7201a8"
             ],
             [
              0.3333333333333333,
              "#9c179e"
             ],
             [
              0.4444444444444444,
              "#bd3786"
             ],
             [
              0.5555555555555556,
              "#d8576b"
             ],
             [
              0.6666666666666666,
              "#ed7953"
             ],
             [
              0.7777777777777778,
              "#fb9f3a"
             ],
             [
              0.8888888888888888,
              "#fdca26"
             ],
             [
              1,
              "#f0f921"
             ]
            ],
            "type": "histogram2d"
           }
          ],
          "histogram2dcontour": [
           {
            "colorbar": {
             "outlinewidth": 0,
             "ticks": ""
            },
            "colorscale": [
             [
              0,
              "#0d0887"
             ],
             [
              0.1111111111111111,
              "#46039f"
             ],
             [
              0.2222222222222222,
              "#7201a8"
             ],
             [
              0.3333333333333333,
              "#9c179e"
             ],
             [
              0.4444444444444444,
              "#bd3786"
             ],
             [
              0.5555555555555556,
              "#d8576b"
             ],
             [
              0.6666666666666666,
              "#ed7953"
             ],
             [
              0.7777777777777778,
              "#fb9f3a"
             ],
             [
              0.8888888888888888,
              "#fdca26"
             ],
             [
              1,
              "#f0f921"
             ]
            ],
            "type": "histogram2dcontour"
           }
          ],
          "mesh3d": [
           {
            "colorbar": {
             "outlinewidth": 0,
             "ticks": ""
            },
            "type": "mesh3d"
           }
          ],
          "parcoords": [
           {
            "line": {
             "colorbar": {
              "outlinewidth": 0,
              "ticks": ""
             }
            },
            "type": "parcoords"
           }
          ],
          "pie": [
           {
            "automargin": true,
            "type": "pie"
           }
          ],
          "scatter": [
           {
            "marker": {
             "colorbar": {
              "outlinewidth": 0,
              "ticks": ""
             }
            },
            "type": "scatter"
           }
          ],
          "scatter3d": [
           {
            "line": {
             "colorbar": {
              "outlinewidth": 0,
              "ticks": ""
             }
            },
            "marker": {
             "colorbar": {
              "outlinewidth": 0,
              "ticks": ""
             }
            },
            "type": "scatter3d"
           }
          ],
          "scattercarpet": [
           {
            "marker": {
             "colorbar": {
              "outlinewidth": 0,
              "ticks": ""
             }
            },
            "type": "scattercarpet"
           }
          ],
          "scattergeo": [
           {
            "marker": {
             "colorbar": {
              "outlinewidth": 0,
              "ticks": ""
             }
            },
            "type": "scattergeo"
           }
          ],
          "scattergl": [
           {
            "marker": {
             "colorbar": {
              "outlinewidth": 0,
              "ticks": ""
             }
            },
            "type": "scattergl"
           }
          ],
          "scattermapbox": [
           {
            "marker": {
             "colorbar": {
              "outlinewidth": 0,
              "ticks": ""
             }
            },
            "type": "scattermapbox"
           }
          ],
          "scatterpolar": [
           {
            "marker": {
             "colorbar": {
              "outlinewidth": 0,
              "ticks": ""
             }
            },
            "type": "scatterpolar"
           }
          ],
          "scatterpolargl": [
           {
            "marker": {
             "colorbar": {
              "outlinewidth": 0,
              "ticks": ""
             }
            },
            "type": "scatterpolargl"
           }
          ],
          "scatterternary": [
           {
            "marker": {
             "colorbar": {
              "outlinewidth": 0,
              "ticks": ""
             }
            },
            "type": "scatterternary"
           }
          ],
          "surface": [
           {
            "colorbar": {
             "outlinewidth": 0,
             "ticks": ""
            },
            "colorscale": [
             [
              0,
              "#0d0887"
             ],
             [
              0.1111111111111111,
              "#46039f"
             ],
             [
              0.2222222222222222,
              "#7201a8"
             ],
             [
              0.3333333333333333,
              "#9c179e"
             ],
             [
              0.4444444444444444,
              "#bd3786"
             ],
             [
              0.5555555555555556,
              "#d8576b"
             ],
             [
              0.6666666666666666,
              "#ed7953"
             ],
             [
              0.7777777777777778,
              "#fb9f3a"
             ],
             [
              0.8888888888888888,
              "#fdca26"
             ],
             [
              1,
              "#f0f921"
             ]
            ],
            "type": "surface"
           }
          ],
          "table": [
           {
            "cells": {
             "fill": {
              "color": "#EBF0F8"
             },
             "line": {
              "color": "white"
             }
            },
            "header": {
             "fill": {
              "color": "#C8D4E3"
             },
             "line": {
              "color": "white"
             }
            },
            "type": "table"
           }
          ]
         },
         "layout": {
          "annotationdefaults": {
           "arrowcolor": "#2a3f5f",
           "arrowhead": 0,
           "arrowwidth": 1
          },
          "coloraxis": {
           "colorbar": {
            "outlinewidth": 0,
            "ticks": ""
           }
          },
          "colorscale": {
           "diverging": [
            [
             0,
             "#8e0152"
            ],
            [
             0.1,
             "#c51b7d"
            ],
            [
             0.2,
             "#de77ae"
            ],
            [
             0.3,
             "#f1b6da"
            ],
            [
             0.4,
             "#fde0ef"
            ],
            [
             0.5,
             "#f7f7f7"
            ],
            [
             0.6,
             "#e6f5d0"
            ],
            [
             0.7,
             "#b8e186"
            ],
            [
             0.8,
             "#7fbc41"
            ],
            [
             0.9,
             "#4d9221"
            ],
            [
             1,
             "#276419"
            ]
           ],
           "sequential": [
            [
             0,
             "#0d0887"
            ],
            [
             0.1111111111111111,
             "#46039f"
            ],
            [
             0.2222222222222222,
             "#7201a8"
            ],
            [
             0.3333333333333333,
             "#9c179e"
            ],
            [
             0.4444444444444444,
             "#bd3786"
            ],
            [
             0.5555555555555556,
             "#d8576b"
            ],
            [
             0.6666666666666666,
             "#ed7953"
            ],
            [
             0.7777777777777778,
             "#fb9f3a"
            ],
            [
             0.8888888888888888,
             "#fdca26"
            ],
            [
             1,
             "#f0f921"
            ]
           ],
           "sequentialminus": [
            [
             0,
             "#0d0887"
            ],
            [
             0.1111111111111111,
             "#46039f"
            ],
            [
             0.2222222222222222,
             "#7201a8"
            ],
            [
             0.3333333333333333,
             "#9c179e"
            ],
            [
             0.4444444444444444,
             "#bd3786"
            ],
            [
             0.5555555555555556,
             "#d8576b"
            ],
            [
             0.6666666666666666,
             "#ed7953"
            ],
            [
             0.7777777777777778,
             "#fb9f3a"
            ],
            [
             0.8888888888888888,
             "#fdca26"
            ],
            [
             1,
             "#f0f921"
            ]
           ]
          },
          "colorway": [
           "#636efa",
           "#EF553B",
           "#00cc96",
           "#ab63fa",
           "#FFA15A",
           "#19d3f3",
           "#FF6692",
           "#B6E880",
           "#FF97FF",
           "#FECB52"
          ],
          "font": {
           "color": "#2a3f5f"
          },
          "geo": {
           "bgcolor": "white",
           "lakecolor": "white",
           "landcolor": "#E5ECF6",
           "showlakes": true,
           "showland": true,
           "subunitcolor": "white"
          },
          "hoverlabel": {
           "align": "left"
          },
          "hovermode": "closest",
          "mapbox": {
           "style": "light"
          },
          "paper_bgcolor": "white",
          "plot_bgcolor": "#E5ECF6",
          "polar": {
           "angularaxis": {
            "gridcolor": "white",
            "linecolor": "white",
            "ticks": ""
           },
           "bgcolor": "#E5ECF6",
           "radialaxis": {
            "gridcolor": "white",
            "linecolor": "white",
            "ticks": ""
           }
          },
          "scene": {
           "xaxis": {
            "backgroundcolor": "#E5ECF6",
            "gridcolor": "white",
            "gridwidth": 2,
            "linecolor": "white",
            "showbackground": true,
            "ticks": "",
            "zerolinecolor": "white"
           },
           "yaxis": {
            "backgroundcolor": "#E5ECF6",
            "gridcolor": "white",
            "gridwidth": 2,
            "linecolor": "white",
            "showbackground": true,
            "ticks": "",
            "zerolinecolor": "white"
           },
           "zaxis": {
            "backgroundcolor": "#E5ECF6",
            "gridcolor": "white",
            "gridwidth": 2,
            "linecolor": "white",
            "showbackground": true,
            "ticks": "",
            "zerolinecolor": "white"
           }
          },
          "shapedefaults": {
           "line": {
            "color": "#2a3f5f"
           }
          },
          "ternary": {
           "aaxis": {
            "gridcolor": "white",
            "linecolor": "white",
            "ticks": ""
           },
           "baxis": {
            "gridcolor": "white",
            "linecolor": "white",
            "ticks": ""
           },
           "bgcolor": "#E5ECF6",
           "caxis": {
            "gridcolor": "white",
            "linecolor": "white",
            "ticks": ""
           }
          },
          "title": {
           "x": 0.05
          },
          "xaxis": {
           "automargin": true,
           "gridcolor": "white",
           "linecolor": "white",
           "ticks": "",
           "title": {
            "standoff": 15
           },
           "zerolinecolor": "white",
           "zerolinewidth": 2
          },
          "yaxis": {
           "automargin": true,
           "gridcolor": "white",
           "linecolor": "white",
           "ticks": "",
           "title": {
            "standoff": 15
           },
           "zerolinecolor": "white",
           "zerolinewidth": 2
          }
         }
        },
        "updatemenus": [
         {
          "active": 7,
          "buttons": [
           {
            "args": [
             {
              "marker.color": [
               [
                "red",
                "black",
                "black",
                "black",
                "blue",
                "black",
                "black",
                "black",
                "purple",
                "black",
                "black",
                "black",
                "black",
                "black",
                "black",
                "black",
                "black",
                "black",
                "black",
                "black",
                "black",
                "black",
                "black",
                "black"
               ]
              ]
             }
            ],
            "label": "CinAld_CPAcd",
            "method": "restyle"
           },
           {
            "args": [
             {
              "marker.color": [
               [
                "red",
                "black",
                "black",
                "black",
                "black",
                "blue",
                "black",
                "black",
                "black",
                "purple",
                "black",
                "black",
                "black",
                "black",
                "black",
                "black",
                "black",
                "black",
                "black",
                "black",
                "black",
                "black",
                "black",
                "black"
               ]
              ]
             }
            ],
            "label": "CinAld_2Hep",
            "method": "restyle"
           },
           {
            "args": [
             {
              "marker.color": [
               [
                "red",
                "black",
                "black",
                "black",
                "black",
                "black",
                "blue",
                "black",
                "black",
                "black",
                "purple",
                "black",
                "black",
                "black",
                "black",
                "black",
                "black",
                "black",
                "black",
                "black",
                "black",
                "black",
                "black",
                "black"
               ]
              ]
             }
            ],
            "label": "CinAld_IBAcd",
            "method": "restyle"
           },
           {
            "args": [
             {
              "marker.color": [
               [
                "red",
                "black",
                "black",
                "black",
                "black",
                "black",
                "black",
                "blue",
                "black",
                "black",
                "black",
                "purple",
                "black",
                "black",
                "black",
                "black",
                "black",
                "black",
                "black",
                "black",
                "black",
                "black",
                "black",
                "black"
               ]
              ]
             }
            ],
            "label": "CinAld_IVAcd",
            "method": "restyle"
           },
           {
            "args": [
             {
              "marker.color": [
               [
                "black",
                "red",
                "black",
                "black",
                "blue",
                "black",
                "black",
                "black",
                "black",
                "black",
                "black",
                "black",
                "purple",
                "black",
                "black",
                "black",
                "black",
                "black",
                "black",
                "black",
                "black",
                "black",
                "black",
                "black"
               ]
              ]
             }
            ],
            "label": "EB_CPAcd",
            "method": "restyle"
           },
           {
            "args": [
             {
              "marker.color": [
               [
                "black",
                "red",
                "black",
                "black",
                "black",
                "blue",
                "black",
                "black",
                "black",
                "black",
                "black",
                "black",
                "black",
                "purple",
                "black",
                "black",
                "black",
                "black",
                "black",
                "black",
                "black",
                "black",
                "black",
                "black"
               ]
              ]
             }
            ],
            "label": "EB_2Hep",
            "method": "restyle"
           },
           {
            "args": [
             {
              "marker.color": [
               [
                "black",
                "red",
                "black",
                "black",
                "black",
                "black",
                "blue",
                "black",
                "black",
                "black",
                "black",
                "black",
                "black",
                "black",
                "purple",
                "black",
                "black",
                "black",
                "black",
                "black",
                "black",
                "black",
                "black",
                "black"
               ]
              ]
             }
            ],
            "label": "EB_IBAcd",
            "method": "restyle"
           },
           {
            "args": [
             {
              "marker.color": [
               [
                "black",
                "red",
                "black",
                "black",
                "black",
                "black",
                "black",
                "blue",
                "black",
                "black",
                "black",
                "black",
                "black",
                "black",
                "black",
                "purple",
                "black",
                "black",
                "black",
                "black",
                "black",
                "black",
                "black",
                "black"
               ]
              ]
             }
            ],
            "label": "EB_IVAcd",
            "method": "restyle"
           },
           {
            "args": [
             {
              "marker.color": [
               [
                "black",
                "black",
                "red",
                "black",
                "blue",
                "black",
                "black",
                "black",
                "black",
                "black",
                "black",
                "black",
                "black",
                "black",
                "black",
                "black",
                "purple",
                "black",
                "black",
                "black",
                "black",
                "black",
                "black",
                "black"
               ]
              ]
             }
            ],
            "label": "2MBAcd_CPAcd",
            "method": "restyle"
           },
           {
            "args": [
             {
              "marker.color": [
               [
                "black",
                "black",
                "red",
                "black",
                "black",
                "blue",
                "black",
                "black",
                "black",
                "black",
                "black",
                "black",
                "black",
                "black",
                "black",
                "black",
                "black",
                "purple",
                "black",
                "black",
                "black",
                "black",
                "black",
                "black"
               ]
              ]
             }
            ],
            "label": "2MBAcd_2Hep",
            "method": "restyle"
           },
           {
            "args": [
             {
              "marker.color": [
               [
                "black",
                "black",
                "red",
                "black",
                "black",
                "black",
                "blue",
                "black",
                "black",
                "black",
                "black",
                "black",
                "black",
                "black",
                "black",
                "black",
                "black",
                "black",
                "purple",
                "black",
                "black",
                "black",
                "black",
                "black"
               ]
              ]
             }
            ],
            "label": "2MBAcd_IBAcd",
            "method": "restyle"
           },
           {
            "args": [
             {
              "marker.color": [
               [
                "black",
                "black",
                "red",
                "black",
                "black",
                "black",
                "black",
                "blue",
                "black",
                "black",
                "black",
                "black",
                "black",
                "black",
                "black",
                "black",
                "black",
                "black",
                "black",
                "purple",
                "black",
                "black",
                "black",
                "black"
               ]
              ]
             }
            ],
            "label": "2MBAcd_IVAcd",
            "method": "restyle"
           },
           {
            "args": [
             {
              "marker.color": [
               [
                "black",
                "black",
                "black",
                "red",
                "blue",
                "black",
                "black",
                "black",
                "black",
                "black",
                "black",
                "black",
                "black",
                "black",
                "black",
                "black",
                "black",
                "black",
                "black",
                "black",
                "purple",
                "black",
                "black",
                "black"
               ]
              ]
             }
            ],
            "label": "22DMBAcd_CPAcd",
            "method": "restyle"
           },
           {
            "args": [
             {
              "marker.color": [
               [
                "black",
                "black",
                "black",
                "red",
                "black",
                "blue",
                "black",
                "black",
                "black",
                "black",
                "black",
                "black",
                "black",
                "black",
                "black",
                "black",
                "black",
                "black",
                "black",
                "black",
                "black",
                "purple",
                "black",
                "black"
               ]
              ]
             }
            ],
            "label": "22DMBAcd_2Hep",
            "method": "restyle"
           },
           {
            "args": [
             {
              "marker.color": [
               [
                "black",
                "black",
                "black",
                "red",
                "black",
                "black",
                "blue",
                "black",
                "black",
                "black",
                "black",
                "black",
                "black",
                "black",
                "black",
                "black",
                "black",
                "black",
                "black",
                "black",
                "black",
                "black",
                "purple",
                "black"
               ]
              ]
             }
            ],
            "label": "22DMBAcd_IBAcd",
            "method": "restyle"
           },
           {
            "args": [
             {
              "marker.color": [
               [
                "black",
                "black",
                "black",
                "red",
                "black",
                "black",
                "black",
                "blue",
                "black",
                "black",
                "black",
                "black",
                "black",
                "black",
                "black",
                "black",
                "black",
                "black",
                "black",
                "black",
                "black",
                "black",
                "black",
                "purple"
               ]
              ]
             }
            ],
            "label": "22DMBAcd_IVAcd",
            "method": "restyle"
           }
          ],
          "showactive": true,
          "type": "buttons"
         }
        ],
        "xaxis": {
         "autorange": true,
         "range": [
          -1.8906581160701148,
          3.888386702267014
         ],
         "type": "linear"
        },
        "yaxis": {
         "autorange": true,
         "range": [
          -4.3827454891933755,
          4.247649416042741
         ],
         "type": "linear"
        }
       }
      },
      "image/png": "[encoded data removed]",
      "text/html": [
       "<div>                            <div id=\"11a40cbd-dfa0-4483-85ae-a7f5ef1f68e9\" class=\"plotly-graph-div\" style=\"height:525px; width:100%;\"></div>            <script type=\"text/javascript\">                require([\"plotly\"], function(Plotly) {                    window.PLOTLYENV=window.PLOTLYENV || {};                                    if (document.getElementById(\"11a40cbd-dfa0-4483-85ae-a7f5ef1f68e9\")) {                    Plotly.newPlot(                        \"11a40cbd-dfa0-4483-85ae-a7f5ef1f68e9\",                        [{\"marker\": {\"color\": [\"black\", \"black\", \"black\", \"black\", \"black\", \"black\", \"black\", \"black\", \"black\", \"black\", \"black\", \"black\", \"black\", \"black\", \"black\", \"black\", \"black\", \"black\", \"black\", \"black\", \"black\", \"black\", \"black\", \"black\"]}, \"mode\": \"markers\", \"name\": \"rho_beta_true_coords\", \"type\": \"scatter\", \"x\": [-0.0021386523731052876, 2.5044000148773193, -0.8264955878257751, -1.8716753721237183, -1.2752529382705688, 3.0019848346710205, 0.255257248878479, -1.2392233610153198, -0.6527836918830872, 3.2175230979919434, 0.08743388950824738, -1.6649457216262817, 2.481961488723755, 2.677887201309204, 2.35566782951355, 2.12503719329834, -0.9816548824310303, 2.9119818210601807, -0.33998042345046997, -0.980760395526886, -1.8758769035339355, 2.647800922393799, -2.2511157989501953, -1.8758858442306519, -0.2064676731824875], \"y\": [2.1751339435577393, -3.346052646636963, 0.7365163564682007, 1.1434322595596313, 2.0288286209106445, -1.7143326997756958, 0.9904507994651794, -0.21040895581245422, 2.2790346145629883, -1.4739577770233154, 1.710996150970459, -0.6297540068626404, -3.680960178375244, -2.682518482208252, -3.5066611766815186, -3.4887521266937256, 1.3904187679290771, -1.1724668741226196, 0.9187840223312378, 0.09935685992240906, 1.6508216857910156, -1.4813612699508667, 0.9710911512374878, 0.267641544342041, 2.3465871810913086]}, {\"marker\": {\"color\": [\"black\", \"black\", \"black\", \"black\", \"black\", \"black\", \"black\", \"black\", \"black\", \"black\", \"black\", \"black\", \"black\", \"black\", \"black\", \"black\", \"black\", \"black\", \"black\", \"black\", \"black\", \"black\", \"black\", \"black\"]}, \"mode\": \"markers\", \"name\": \"beta_true_coords\", \"type\": \"scatter\", \"x\": [-0.2064676731824875, 3.4166510105133057, -1.4520893096923828, -0.5869563221931458, 0.17413324117660522, 1.281383752822876, -1.7659355401992798, -2.574836492538452, 0.20710931718349457, 1.1011663675308228, -0.8207865953445435, -2.5945863723754883, 3.6530089378356934, 2.5631892681121826, 3.7516469955444336, 3.967177152633667, -0.7299484014511108, 0.9336409568786621, -1.6521146297454834, -2.1567258834838867, -0.19948095083236694, 0.6459822058677673, -0.7483168244361877, -1.5400104522705078, 0.37070518732070923], \"y\": [2.3465871810913086, -1.8904999494552612, 0.8564885854721069, -0.45675820112228394, 0.817261278629303, -1.8598383665084839, 2.2427127361297607, -0.03856569156050682, 1.681807518005371, -2.3517215251922607, 2.429994583129883, -0.9188681244850159, -1.5576013326644897, -1.9943221807479858, -1.8829528093338013, -2.0229694843292236, 0.8669697046279907, -2.394129514694214, 1.5486817359924316, 0.37729886174201965, -0.13828758895397186, -1.6406813859939575, -1.1383256912231445, -0.6052660346031189, -1.3452075719833374]}, {\"marker\": {\"color\": [\"black\", \"black\", \"black\", \"black\", \"black\", \"black\", \"black\", \"black\", \"black\", \"black\", \"black\", \"black\", \"black\", \"black\", \"black\", \"black\", \"black\", \"black\", \"black\", \"black\", \"black\", \"black\", \"black\", \"black\"]}, \"mode\": \"markers\", \"name\": \"all_true_coords\", \"type\": \"scatter\", \"x\": [0.37070518732070923, 3.5492424964904785, 0.059530194848775864, -0.2754213213920593, -0.35246142745018005, -0.1694013625383377, 0.8804023265838623, -1.1728923320770264, -0.2010440081357956, 0.08772815763950348, 0.7495357394218445, -1.0597167015075684, 3.5770466327667236, -0.27001532912254333, 3.570413827896118, -1.5793180465698242, -0.17347760498523712, 0.04109465703368187, 0.64360111951828, -0.9509896636009216, -0.34673789143562317, -0.26798149943351746, 0.5407863855361938, -1.0373363494873047], \"y\": [-1.3452075719833374, -3.8313591480255127, -0.14858123660087585, 0.6020181179046631, -0.9115645289421082, 2.4336085319519043, -0.3926260471343994, -0.34731459617614746, -1.4539581537246704, 2.3855578899383545, -1.222894310951233, -1.338610291481018, -3.80479097366333, 3.385894298553467, -3.8134565353393555, 3.696263074874878, -0.5434037446975708, 2.1736514568328857, -0.1782652884721756, -0.14855511486530304, 0.3744470179080963, 2.0110042095184326, 0.6084179878234863, 0.6339705586433411]}],                        {\"template\": {\"data\": {\"bar\": [{\"error_x\": {\"color\": \"#2a3f5f\"}, \"error_y\": {\"color\": \"#2a3f5f\"}, \"marker\": {\"line\": {\"color\": \"#E5ECF6\", \"width\": 0.5}}, \"type\": \"bar\"}], \"barpolar\": [{\"marker\": {\"line\": {\"color\": \"#E5ECF6\", \"width\": 0.5}}, \"type\": \"barpolar\"}], \"carpet\": [{\"aaxis\": {\"endlinecolor\": \"#2a3f5f\", \"gridcolor\": \"white\", \"linecolor\": \"white\", \"minorgridcolor\": \"white\", \"startlinecolor\": \"#2a3f5f\"}, \"baxis\": {\"endlinecolor\": \"#2a3f5f\", \"gridcolor\": \"white\", \"linecolor\": \"white\", \"minorgridcolor\": \"white\", \"startlinecolor\": \"#2a3f5f\"}, \"type\": \"carpet\"}], \"choropleth\": [{\"colorbar\": {\"outlinewidth\": 0, \"ticks\": \"\"}, \"type\": \"choropleth\"}], \"contour\": [{\"colorbar\": {\"outlinewidth\": 0, \"ticks\": \"\"}, \"colorscale\": [[0.0, \"#0d0887\"], [0.1111111111111111, \"#46039f\"], [0.2222222222222222, \"#7201a8\"], [0.3333333333333333, \"#9c179e\"], [0.4444444444444444, \"#bd3786\"], [0.5555555555555556, \"#d8576b\"], [0.6666666666666666, \"#ed7953\"], [0.7777777777777778, \"#fb9f3a\"], [0.8888888888888888, \"#fdca26\"], [1.0, \"#f0f921\"]], \"type\": \"contour\"}], \"contourcarpet\": [{\"colorbar\": {\"outlinewidth\": 0, \"ticks\": \"\"}, \"type\": \"contourcarpet\"}], \"heatmap\": [{\"colorbar\": {\"outlinewidth\": 0, \"ticks\": \"\"}, \"colorscale\": [[0.0, \"#0d0887\"], [0.1111111111111111, \"#46039f\"], [0.2222222222222222, \"#7201a8\"], [0.3333333333333333, \"#9c179e\"], [0.4444444444444444, \"#bd3786\"], [0.5555555555555556, \"#d8576b\"], [0.6666666666666666, \"#ed7953\"], [0.7777777777777778, \"#fb9f3a\"], [0.8888888888888888, \"#fdca26\"], [1.0, \"#f0f921\"]], \"type\": \"heatmap\"}], \"heatmapgl\": [{\"colorbar\": {\"outlinewidth\": 0, \"ticks\": \"\"}, \"colorscale\": [[0.0, \"#0d0887\"], [0.1111111111111111, \"#46039f\"], [0.2222222222222222, \"#7201a8\"], [0.3333333333333333, \"#9c179e\"], [0.4444444444444444, \"#bd3786\"], [0.5555555555555556, \"#d8576b\"], [0.6666666666666666, \"#ed7953\"], [0.7777777777777778, \"#fb9f3a\"], [0.8888888888888888, \"#fdca26\"], [1.0, \"#f0f921\"]], \"type\": \"heatmapgl\"}], \"histogram\": [{\"marker\": {\"colorbar\": {\"outlinewidth\": 0, \"ticks\": \"\"}}, \"type\": \"histogram\"}], \"histogram2d\": [{\"colorbar\": {\"outlinewidth\": 0, \"ticks\": \"\"}, \"colorscale\": [[0.0, \"#0d0887\"], [0.1111111111111111, \"#46039f\"], [0.2222222222222222, \"#7201a8\"], [0.3333333333333333, \"#9c179e\"], [0.4444444444444444, \"#bd3786\"], [0.5555555555555556, \"#d8576b\"], [0.6666666666666666, \"#ed7953\"], [0.7777777777777778, \"#fb9f3a\"], [0.8888888888888888, \"#fdca26\"], [1.0, \"#f0f921\"]], \"type\": \"histogram2d\"}], \"histogram2dcontour\": [{\"colorbar\": {\"outlinewidth\": 0, \"ticks\": \"\"}, \"colorscale\": [[0.0, \"#0d0887\"], [0.1111111111111111, \"#46039f\"], [0.2222222222222222, \"#7201a8\"], [0.3333333333333333, \"#9c179e\"], [0.4444444444444444, \"#bd3786\"], [0.5555555555555556, \"#d8576b\"], [0.6666666666666666, \"#ed7953\"], [0.7777777777777778, \"#fb9f3a\"], [0.8888888888888888, \"#fdca26\"], [1.0, \"#f0f921\"]], \"type\": \"histogram2dcontour\"}], \"mesh3d\": [{\"colorbar\": {\"outlinewidth\": 0, \"ticks\": \"\"}, \"type\": \"mesh3d\"}], \"parcoords\": [{\"line\": {\"colorbar\": {\"outlinewidth\": 0, \"ticks\": \"\"}}, \"type\": \"parcoords\"}], \"pie\": [{\"automargin\": true, \"type\": \"pie\"}], \"scatter\": [{\"marker\": {\"colorbar\": {\"outlinewidth\": 0, \"ticks\": \"\"}}, \"type\": \"scatter\"}], \"scatter3d\": [{\"line\": {\"colorbar\": {\"outlinewidth\": 0, \"ticks\": \"\"}}, \"marker\": {\"colorbar\": {\"outlinewidth\": 0, \"ticks\": \"\"}}, \"type\": \"scatter3d\"}], \"scattercarpet\": [{\"marker\": {\"colorbar\": {\"outlinewidth\": 0, \"ticks\": \"\"}}, \"type\": \"scattercarpet\"}], \"scattergeo\": [{\"marker\": {\"colorbar\": {\"outlinewidth\": 0, \"ticks\": \"\"}}, \"type\": \"scattergeo\"}], \"scattergl\": [{\"marker\": {\"colorbar\": {\"outlinewidth\": 0, \"ticks\": \"\"}}, \"type\": \"scattergl\"}], \"scattermapbox\": [{\"marker\": {\"colorbar\": {\"outlinewidth\": 0, \"ticks\": \"\"}}, \"type\": \"scattermapbox\"}], \"scatterpolar\": [{\"marker\": {\"colorbar\": {\"outlinewidth\": 0, \"ticks\": \"\"}}, \"type\": \"scatterpolar\"}], \"scatterpolargl\": [{\"marker\": {\"colorbar\": {\"outlinewidth\": 0, \"ticks\": \"\"}}, \"type\": \"scatterpolargl\"}], \"scatterternary\": [{\"marker\": {\"colorbar\": {\"outlinewidth\": 0, \"ticks\": \"\"}}, \"type\": \"scatterternary\"}], \"surface\": [{\"colorbar\": {\"outlinewidth\": 0, \"ticks\": \"\"}, \"colorscale\": [[0.0, \"#0d0887\"], [0.1111111111111111, \"#46039f\"], [0.2222222222222222, \"#7201a8\"], [0.3333333333333333, \"#9c179e\"], [0.4444444444444444, \"#bd3786\"], [0.5555555555555556, \"#d8576b\"], [0.6666666666666666, \"#ed7953\"], [0.7777777777777778, \"#fb9f3a\"], [0.8888888888888888, \"#fdca26\"], [1.0, \"#f0f921\"]], \"type\": \"surface\"}], \"table\": [{\"cells\": {\"fill\": {\"color\": \"#EBF0F8\"}, \"line\": {\"color\": \"white\"}}, \"header\": {\"fill\": {\"color\": \"#C8D4E3\"}, \"line\": {\"color\": \"white\"}}, \"type\": \"table\"}]}, \"layout\": {\"annotationdefaults\": {\"arrowcolor\": \"#2a3f5f\", \"arrowhead\": 0, \"arrowwidth\": 1}, \"coloraxis\": {\"colorbar\": {\"outlinewidth\": 0, \"ticks\": \"\"}}, \"colorscale\": {\"diverging\": [[0, \"#8e0152\"], [0.1, \"#c51b7d\"], [0.2, \"#de77ae\"], [0.3, \"#f1b6da\"], [0.4, \"#fde0ef\"], [0.5, \"#f7f7f7\"], [0.6, \"#e6f5d0\"], [0.7, \"#b8e186\"], [0.8, \"#7fbc41\"], [0.9, \"#4d9221\"], [1, \"#276419\"]], \"sequential\": [[0.0, \"#0d0887\"], [0.1111111111111111, \"#46039f\"], [0.2222222222222222, \"#7201a8\"], [0.3333333333333333, \"#9c179e\"], [0.4444444444444444, \"#bd3786\"], [0.5555555555555556, \"#d8576b\"], [0.6666666666666666, \"#ed7953\"], [0.7777777777777778, \"#fb9f3a\"], [0.8888888888888888, \"#fdca26\"], [1.0, \"#f0f921\"]], \"sequentialminus\": [[0.0, \"#0d0887\"], [0.1111111111111111, \"#46039f\"], [0.2222222222222222, \"#7201a8\"], [0.3333333333333333, \"#9c179e\"], [0.4444444444444444, \"#bd3786\"], [0.5555555555555556, \"#d8576b\"], [0.6666666666666666, \"#ed7953\"], [0.7777777777777778, \"#fb9f3a\"], [0.8888888888888888, \"#fdca26\"], [1.0, \"#f0f921\"]]}, \"colorway\": [\"#636efa\", \"#EF553B\", \"#00cc96\", \"#ab63fa\", \"#FFA15A\", \"#19d3f3\", \"#FF6692\", \"#B6E880\", \"#FF97FF\", \"#FECB52\"], \"font\": {\"color\": \"#2a3f5f\"}, \"geo\": {\"bgcolor\": \"white\", \"lakecolor\": \"white\", \"landcolor\": \"#E5ECF6\", \"showlakes\": true, \"showland\": true, \"subunitcolor\": \"white\"}, \"hoverlabel\": {\"align\": \"left\"}, \"hovermode\": \"closest\", \"mapbox\": {\"style\": \"light\"}, \"paper_bgcolor\": \"white\", \"plot_bgcolor\": \"#E5ECF6\", \"polar\": {\"angularaxis\": {\"gridcolor\": \"white\", \"linecolor\": \"white\", \"ticks\": \"\"}, \"bgcolor\": \"#E5ECF6\", \"radialaxis\": {\"gridcolor\": \"white\", \"linecolor\": \"white\", \"ticks\": \"\"}}, \"scene\": {\"xaxis\": {\"backgroundcolor\": \"#E5ECF6\", \"gridcolor\": \"white\", \"gridwidth\": 2, \"linecolor\": \"white\", \"showbackground\": true, \"ticks\": \"\", \"zerolinecolor\": \"white\"}, \"yaxis\": {\"backgroundcolor\": \"#E5ECF6\", \"gridcolor\": \"white\", \"gridwidth\": 2, \"linecolor\": \"white\", \"showbackground\": true, \"ticks\": \"\", \"zerolinecolor\": \"white\"}, \"zaxis\": {\"backgroundcolor\": \"#E5ECF6\", \"gridcolor\": \"white\", \"gridwidth\": 2, \"linecolor\": \"white\", \"showbackground\": true, \"ticks\": \"\", \"zerolinecolor\": \"white\"}}, \"shapedefaults\": {\"line\": {\"color\": \"#2a3f5f\"}}, \"ternary\": {\"aaxis\": {\"gridcolor\": \"white\", \"linecolor\": \"white\", \"ticks\": \"\"}, \"baxis\": {\"gridcolor\": \"white\", \"linecolor\": \"white\", \"ticks\": \"\"}, \"bgcolor\": \"#E5ECF6\", \"caxis\": {\"gridcolor\": \"white\", \"linecolor\": \"white\", \"ticks\": \"\"}}, \"title\": {\"x\": 0.05}, \"xaxis\": {\"automargin\": true, \"gridcolor\": \"white\", \"linecolor\": \"white\", \"ticks\": \"\", \"title\": {\"standoff\": 15}, \"zerolinecolor\": \"white\", \"zerolinewidth\": 2}, \"yaxis\": {\"automargin\": true, \"gridcolor\": \"white\", \"linecolor\": \"white\", \"ticks\": \"\", \"title\": {\"standoff\": 15}, \"zerolinecolor\": \"white\", \"zerolinewidth\": 2}}}, \"updatemenus\": [{\"active\": true, \"buttons\": [{\"args\": [{\"marker.color\": [[\"red\", \"black\", \"black\", \"black\", \"blue\", \"black\", \"black\", \"black\", \"purple\", \"black\", \"black\", \"black\", \"black\", \"black\", \"black\", \"black\", \"black\", \"black\", \"black\", \"black\", \"black\", \"black\", \"black\", \"black\"]]}], \"label\": \"CinAld_CPAcd\", \"method\": \"restyle\"}, {\"args\": [{\"marker.color\": [[\"red\", \"black\", \"black\", \"black\", \"black\", \"blue\", \"black\", \"black\", \"black\", \"purple\", \"black\", \"black\", \"black\", \"black\", \"black\", \"black\", \"black\", \"black\", \"black\", \"black\", \"black\", \"black\", \"black\", \"black\"]]}], \"label\": \"CinAld_2Hep\", \"method\": \"restyle\"}, {\"args\": [{\"marker.color\": [[\"red\", \"black\", \"black\", \"black\", \"black\", \"black\", \"blue\", \"black\", \"black\", \"black\", \"purple\", \"black\", \"black\", \"black\", \"black\", \"black\", \"black\", \"black\", \"black\", \"black\", \"black\", \"black\", \"black\", \"black\"]]}], \"label\": \"CinAld_IBAcd\", \"method\": \"restyle\"}, {\"args\": [{\"marker.color\": [[\"red\", \"black\", \"black\", \"black\", \"black\", \"black\", \"black\", \"blue\", \"black\", \"black\", \"black\", \"purple\", \"black\", \"black\", \"black\", \"black\", \"black\", \"black\", \"black\", \"black\", \"black\", \"black\", \"black\", \"black\"]]}], \"label\": \"CinAld_IVAcd\", \"method\": \"restyle\"}, {\"args\": [{\"marker.color\": [[\"black\", \"red\", \"black\", \"black\", \"blue\", \"black\", \"black\", \"black\", \"black\", \"black\", \"black\", \"black\", \"purple\", \"black\", \"black\", \"black\", \"black\", \"black\", \"black\", \"black\", \"black\", \"black\", \"black\", \"black\"]]}], \"label\": \"EB_CPAcd\", \"method\": \"restyle\"}, {\"args\": [{\"marker.color\": [[\"black\", \"red\", \"black\", \"black\", \"black\", \"blue\", \"black\", \"black\", \"black\", \"black\", \"black\", \"black\", \"black\", \"purple\", \"black\", \"black\", \"black\", \"black\", \"black\", \"black\", \"black\", \"black\", \"black\", \"black\"]]}], \"label\": \"EB_2Hep\", \"method\": \"restyle\"}, {\"args\": [{\"marker.color\": [[\"black\", \"red\", \"black\", \"black\", \"black\", \"black\", \"blue\", \"black\", \"black\", \"black\", \"black\", \"black\", \"black\", \"black\", \"purple\", \"black\", \"black\", \"black\", \"black\", \"black\", \"black\", \"black\", \"black\", \"black\"]]}], \"label\": \"EB_IBAcd\", \"method\": \"restyle\"}, {\"args\": [{\"marker.color\": [[\"black\", \"red\", \"black\", \"black\", \"black\", \"black\", \"black\", \"blue\", \"black\", \"black\", \"black\", \"black\", \"black\", \"black\", \"black\", \"purple\", \"black\", \"black\", \"black\", \"black\", \"black\", \"black\", \"black\", \"black\"]]}], \"label\": \"EB_IVAcd\", \"method\": \"restyle\"}, {\"args\": [{\"marker.color\": [[\"black\", \"black\", \"red\", \"black\", \"blue\", \"black\", \"black\", \"black\", \"black\", \"black\", \"black\", \"black\", \"black\", \"black\", \"black\", \"black\", \"purple\", \"black\", \"black\", \"black\", \"black\", \"black\", \"black\", \"black\"]]}], \"label\": \"2MBAcd_CPAcd\", \"method\": \"restyle\"}, {\"args\": [{\"marker.color\": [[\"black\", \"black\", \"red\", \"black\", \"black\", \"blue\", \"black\", \"black\", \"black\", \"black\", \"black\", \"black\", \"black\", \"black\", \"black\", \"black\", \"black\", \"purple\", \"black\", \"black\", \"black\", \"black\", \"black\", \"black\"]]}], \"label\": \"2MBAcd_2Hep\", \"method\": \"restyle\"}, {\"args\": [{\"marker.color\": [[\"black\", \"black\", \"red\", \"black\", \"black\", \"black\", \"blue\", \"black\", \"black\", \"black\", \"black\", \"black\", \"black\", \"black\", \"black\", \"black\", \"black\", \"black\", \"purple\", \"black\", \"black\", \"black\", \"black\", \"black\"]]}], \"label\": \"2MBAcd_IBAcd\", \"method\": \"restyle\"}, {\"args\": [{\"marker.color\": [[\"black\", \"black\", \"red\", \"black\", \"black\", \"black\", \"black\", \"blue\", \"black\", \"black\", \"black\", \"black\", \"black\", \"black\", \"black\", \"black\", \"black\", \"black\", \"black\", \"purple\", \"black\", \"black\", \"black\", \"black\"]]}], \"label\": \"2MBAcd_IVAcd\", \"method\": \"restyle\"}, {\"args\": [{\"marker.color\": [[\"black\", \"black\", \"black\", \"red\", \"blue\", \"black\", \"black\", \"black\", \"black\", \"black\", \"black\", \"black\", \"black\", \"black\", \"black\", \"black\", \"black\", \"black\", \"black\", \"black\", \"purple\", \"black\", \"black\", \"black\"]]}], \"label\": \"22DMBAcd_CPAcd\", \"method\": \"restyle\"}, {\"args\": [{\"marker.color\": [[\"black\", \"black\", \"black\", \"red\", \"black\", \"blue\", \"black\", \"black\", \"black\", \"black\", \"black\", \"black\", \"black\", \"black\", \"black\", \"black\", \"black\", \"black\", \"black\", \"black\", \"black\", \"purple\", \"black\", \"black\"]]}], \"label\": \"22DMBAcd_2Hep\", \"method\": \"restyle\"}, {\"args\": [{\"marker.color\": [[\"black\", \"black\", \"black\", \"red\", \"black\", \"black\", \"blue\", \"black\", \"black\", \"black\", \"black\", \"black\", \"black\", \"black\", \"black\", \"black\", \"black\", \"black\", \"black\", \"black\", \"black\", \"black\", \"purple\", \"black\"]]}], \"label\": \"22DMBAcd_IBAcd\", \"method\": \"restyle\"}, {\"args\": [{\"marker.color\": [[\"black\", \"black\", \"black\", \"red\", \"black\", \"black\", \"black\", \"blue\", \"black\", \"black\", \"black\", \"black\", \"black\", \"black\", \"black\", \"black\", \"black\", \"black\", \"black\", \"black\", \"black\", \"black\", \"black\", \"purple\"]]}], \"label\": \"22DMBAcd_IVAcd\", \"method\": \"restyle\"}], \"showactive\": true, \"type\": \"buttons\"}]},                        {\"responsive\": true}                    ).then(function(){\n",
       "                            \n",
       "var gd = document.getElementById('11a40cbd-dfa0-4483-85ae-a7f5ef1f68e9');\n",
       "var x = new MutationObserver(function (mutations, observer) {{\n",
       "        var display = window.getComputedStyle(gd).display;\n",
       "        if (!display || display === 'none') {{\n",
       "            console.log([gd, 'removed!']);\n",
       "            Plotly.purge(gd);\n",
       "            observer.disconnect();\n",
       "        }}\n",
       "}});\n",
       "\n",
       "// Listen for the removal of the full notebook cells\n",
       "var notebookContainer = gd.closest('#notebook-container');\n",
       "if (notebookContainer) {{\n",
       "    x.observe(notebookContainer, {childList: true});\n",
       "}}\n",
       "\n",
       "// Listen for the clearing of the current output cell\n",
       "var outputEl = gd.closest('.output');\n",
       "if (outputEl) {{\n",
       "    x.observe(outputEl, {childList: true});\n",
       "}}\n",
       "\n",
       "                        })                };                });            </script>        </div>"
      ]
     },
     "metadata": {},
     "output_type": "display_data"
    }
   ],
   "source": [
    "color_plots(**coords_dictionary)"
   ]
  },
  {
   "cell_type": "code",
   "execution_count": null,
   "metadata": {},
   "outputs": [],
   "source": []
  }
 ],
 "metadata": {
  "kernelspec": {
   "display_name": "Python 3",
   "language": "python",
   "name": "python3"
  },
  "language_info": {
   "codemirror_mode": {
    "name": "ipython",
    "version": 3
   },
   "file_extension": ".py",
   "mimetype": "text/x-python",
   "name": "python",
   "nbconvert_exporter": "python",
   "pygments_lexer": "ipython3",
   "version": "3.8.3"
  }
 },
 "nbformat": 4,
 "nbformat_minor": 4
}
